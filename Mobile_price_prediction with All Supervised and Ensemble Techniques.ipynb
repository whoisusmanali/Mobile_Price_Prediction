{
  "nbformat": 4,
  "nbformat_minor": 0,
  "metadata": {
    "colab": {
      "provenance": []
    },
    "kernelspec": {
      "name": "python3",
      "display_name": "Python 3"
    },
    "language_info": {
      "name": "python"
    }
  },
  "cells": [
    {
      "cell_type": "code",
      "execution_count": 1,
      "metadata": {
        "id": "dSnNV-TReiVj"
      },
      "outputs": [],
      "source": [
        "#Import essential libraries\n",
        "import pandas as pd\n",
        "import numpy as np\n",
        "import matplotlib.pyplot as plt\n",
        "import seaborn as sns"
      ]
    },
    {
      "cell_type": "code",
      "source": [
        "#Get the data from drive by mounthing the drive\n",
        "from google.colab import drive\n",
        "drive.mount('/content/drive')"
      ],
      "metadata": {
        "colab": {
          "base_uri": "https://localhost:8080/"
        },
        "id": "GnbUWAzcezGI",
        "outputId": "5ceaac83-7256-47a5-c6f0-3499ab0f7d39"
      },
      "execution_count": 2,
      "outputs": [
        {
          "output_type": "stream",
          "name": "stdout",
          "text": [
            "Mounted at /content/drive\n"
          ]
        }
      ]
    },
    {
      "cell_type": "code",
      "source": [
        "#Unzip the dataset\n",
        "!unzip '/content/drive/MyDrive/Datasets/Mobile_dataSet.csv.zip'"
      ],
      "metadata": {
        "colab": {
          "base_uri": "https://localhost:8080/"
        },
        "id": "kFsQ_UimfCd7",
        "outputId": "df6a9f92-0b43-4d62-9bad-25298c354abe"
      },
      "execution_count": 3,
      "outputs": [
        {
          "output_type": "stream",
          "name": "stdout",
          "text": [
            "Archive:  /content/drive/MyDrive/Datasets/Mobile_dataSet.csv.zip\n",
            "  inflating: Mobile_dataSet.csv      \n"
          ]
        }
      ]
    },
    {
      "cell_type": "code",
      "source": [
        "#Read the data\n",
        "df=pd.read_csv('/content/Mobile_dataSet.csv')"
      ],
      "metadata": {
        "id": "m9sqUMjMfZZr"
      },
      "execution_count": 4,
      "outputs": []
    },
    {
      "cell_type": "code",
      "source": [
        "df.head()"
      ],
      "metadata": {
        "colab": {
          "base_uri": "https://localhost:8080/",
          "height": 337
        },
        "id": "Wme6067Mfiag",
        "outputId": "8eed6c34-7693-4437-e7e1-cd224829024b"
      },
      "execution_count": 5,
      "outputs": [
        {
          "output_type": "execute_result",
          "data": {
            "text/plain": [
              "   Unnamed: 0                                      Model      Mrp  Rating  \\\n",
              "0           0     Infinix HOT 20 Play (Luna Blue, 64 GB)   ₹8,199     4.3   \n",
              "1           1          MOTOROLA e40 (Carbon Gray, 64 GB)   ₹7,999     4.1   \n",
              "2           2              POCO C31 (Shadow Gray, 64 GB)   ₹7,499     4.3   \n",
              "3           3        REDMI 9i Sport (Coral Green, 64 GB)   ₹7,199     4.3   \n",
              "4           4  SAMSUNG Galaxy F23 5G (Aqua Blue, 128 GB)  ₹14,999     4.3   \n",
              "\n",
              "                              Review  \\\n",
              "0           505 Ratings & 52 Reviews   \n",
              "1     56,085 Ratings & 5,600 Reviews   \n",
              "2  1,83,688 Ratings & 11,185 Reviews   \n",
              "3  2,09,377 Ratings & 12,027 Reviews   \n",
              "4  1,37,778 Ratings & 11,213 Reviews   \n",
              "\n",
              "                                           Specs  \n",
              "0  4 GB RAM | 64 GB ROM | Expandable Upto 256 GB  \n",
              "1    4 GB RAM | 64 GB ROM | Expandable Upto 1 TB  \n",
              "2  4 GB RAM | 64 GB ROM | Expandable Upto 512 GB  \n",
              "3  4 GB RAM | 64 GB ROM | Expandable Upto 512 GB  \n",
              "4   6 GB RAM | 128 GB ROM | Expandable Upto 1 TB  "
            ],
            "text/html": [
              "\n",
              "  <div id=\"df-fd9106de-63a6-4580-92d6-654ffd0e0362\">\n",
              "    <div class=\"colab-df-container\">\n",
              "      <div>\n",
              "<style scoped>\n",
              "    .dataframe tbody tr th:only-of-type {\n",
              "        vertical-align: middle;\n",
              "    }\n",
              "\n",
              "    .dataframe tbody tr th {\n",
              "        vertical-align: top;\n",
              "    }\n",
              "\n",
              "    .dataframe thead th {\n",
              "        text-align: right;\n",
              "    }\n",
              "</style>\n",
              "<table border=\"1\" class=\"dataframe\">\n",
              "  <thead>\n",
              "    <tr style=\"text-align: right;\">\n",
              "      <th></th>\n",
              "      <th>Unnamed: 0</th>\n",
              "      <th>Model</th>\n",
              "      <th>Mrp</th>\n",
              "      <th>Rating</th>\n",
              "      <th>Review</th>\n",
              "      <th>Specs</th>\n",
              "    </tr>\n",
              "  </thead>\n",
              "  <tbody>\n",
              "    <tr>\n",
              "      <th>0</th>\n",
              "      <td>0</td>\n",
              "      <td>Infinix HOT 20 Play (Luna Blue, 64 GB)</td>\n",
              "      <td>₹8,199</td>\n",
              "      <td>4.3</td>\n",
              "      <td>505 Ratings &amp; 52 Reviews</td>\n",
              "      <td>4 GB RAM | 64 GB ROM | Expandable Upto 256 GB</td>\n",
              "    </tr>\n",
              "    <tr>\n",
              "      <th>1</th>\n",
              "      <td>1</td>\n",
              "      <td>MOTOROLA e40 (Carbon Gray, 64 GB)</td>\n",
              "      <td>₹7,999</td>\n",
              "      <td>4.1</td>\n",
              "      <td>56,085 Ratings &amp; 5,600 Reviews</td>\n",
              "      <td>4 GB RAM | 64 GB ROM | Expandable Upto 1 TB</td>\n",
              "    </tr>\n",
              "    <tr>\n",
              "      <th>2</th>\n",
              "      <td>2</td>\n",
              "      <td>POCO C31 (Shadow Gray, 64 GB)</td>\n",
              "      <td>₹7,499</td>\n",
              "      <td>4.3</td>\n",
              "      <td>1,83,688 Ratings &amp; 11,185 Reviews</td>\n",
              "      <td>4 GB RAM | 64 GB ROM | Expandable Upto 512 GB</td>\n",
              "    </tr>\n",
              "    <tr>\n",
              "      <th>3</th>\n",
              "      <td>3</td>\n",
              "      <td>REDMI 9i Sport (Coral Green, 64 GB)</td>\n",
              "      <td>₹7,199</td>\n",
              "      <td>4.3</td>\n",
              "      <td>2,09,377 Ratings &amp; 12,027 Reviews</td>\n",
              "      <td>4 GB RAM | 64 GB ROM | Expandable Upto 512 GB</td>\n",
              "    </tr>\n",
              "    <tr>\n",
              "      <th>4</th>\n",
              "      <td>4</td>\n",
              "      <td>SAMSUNG Galaxy F23 5G (Aqua Blue, 128 GB)</td>\n",
              "      <td>₹14,999</td>\n",
              "      <td>4.3</td>\n",
              "      <td>1,37,778 Ratings &amp; 11,213 Reviews</td>\n",
              "      <td>6 GB RAM | 128 GB ROM | Expandable Upto 1 TB</td>\n",
              "    </tr>\n",
              "  </tbody>\n",
              "</table>\n",
              "</div>\n",
              "      <button class=\"colab-df-convert\" onclick=\"convertToInteractive('df-fd9106de-63a6-4580-92d6-654ffd0e0362')\"\n",
              "              title=\"Convert this dataframe to an interactive table.\"\n",
              "              style=\"display:none;\">\n",
              "        \n",
              "  <svg xmlns=\"http://www.w3.org/2000/svg\" height=\"24px\"viewBox=\"0 0 24 24\"\n",
              "       width=\"24px\">\n",
              "    <path d=\"M0 0h24v24H0V0z\" fill=\"none\"/>\n",
              "    <path d=\"M18.56 5.44l.94 2.06.94-2.06 2.06-.94-2.06-.94-.94-2.06-.94 2.06-2.06.94zm-11 1L8.5 8.5l.94-2.06 2.06-.94-2.06-.94L8.5 2.5l-.94 2.06-2.06.94zm10 10l.94 2.06.94-2.06 2.06-.94-2.06-.94-.94-2.06-.94 2.06-2.06.94z\"/><path d=\"M17.41 7.96l-1.37-1.37c-.4-.4-.92-.59-1.43-.59-.52 0-1.04.2-1.43.59L10.3 9.45l-7.72 7.72c-.78.78-.78 2.05 0 2.83L4 21.41c.39.39.9.59 1.41.59.51 0 1.02-.2 1.41-.59l7.78-7.78 2.81-2.81c.8-.78.8-2.07 0-2.86zM5.41 20L4 18.59l7.72-7.72 1.47 1.35L5.41 20z\"/>\n",
              "  </svg>\n",
              "      </button>\n",
              "      \n",
              "  <style>\n",
              "    .colab-df-container {\n",
              "      display:flex;\n",
              "      flex-wrap:wrap;\n",
              "      gap: 12px;\n",
              "    }\n",
              "\n",
              "    .colab-df-convert {\n",
              "      background-color: #E8F0FE;\n",
              "      border: none;\n",
              "      border-radius: 50%;\n",
              "      cursor: pointer;\n",
              "      display: none;\n",
              "      fill: #1967D2;\n",
              "      height: 32px;\n",
              "      padding: 0 0 0 0;\n",
              "      width: 32px;\n",
              "    }\n",
              "\n",
              "    .colab-df-convert:hover {\n",
              "      background-color: #E2EBFA;\n",
              "      box-shadow: 0px 1px 2px rgba(60, 64, 67, 0.3), 0px 1px 3px 1px rgba(60, 64, 67, 0.15);\n",
              "      fill: #174EA6;\n",
              "    }\n",
              "\n",
              "    [theme=dark] .colab-df-convert {\n",
              "      background-color: #3B4455;\n",
              "      fill: #D2E3FC;\n",
              "    }\n",
              "\n",
              "    [theme=dark] .colab-df-convert:hover {\n",
              "      background-color: #434B5C;\n",
              "      box-shadow: 0px 1px 3px 1px rgba(0, 0, 0, 0.15);\n",
              "      filter: drop-shadow(0px 1px 2px rgba(0, 0, 0, 0.3));\n",
              "      fill: #FFFFFF;\n",
              "    }\n",
              "  </style>\n",
              "\n",
              "      <script>\n",
              "        const buttonEl =\n",
              "          document.querySelector('#df-fd9106de-63a6-4580-92d6-654ffd0e0362 button.colab-df-convert');\n",
              "        buttonEl.style.display =\n",
              "          google.colab.kernel.accessAllowed ? 'block' : 'none';\n",
              "\n",
              "        async function convertToInteractive(key) {\n",
              "          const element = document.querySelector('#df-fd9106de-63a6-4580-92d6-654ffd0e0362');\n",
              "          const dataTable =\n",
              "            await google.colab.kernel.invokeFunction('convertToInteractive',\n",
              "                                                     [key], {});\n",
              "          if (!dataTable) return;\n",
              "\n",
              "          const docLinkHtml = 'Like what you see? Visit the ' +\n",
              "            '<a target=\"_blank\" href=https://colab.research.google.com/notebooks/data_table.ipynb>data table notebook</a>'\n",
              "            + ' to learn more about interactive tables.';\n",
              "          element.innerHTML = '';\n",
              "          dataTable['output_type'] = 'display_data';\n",
              "          await google.colab.output.renderOutput(dataTable, element);\n",
              "          const docLink = document.createElement('div');\n",
              "          docLink.innerHTML = docLinkHtml;\n",
              "          element.appendChild(docLink);\n",
              "        }\n",
              "      </script>\n",
              "    </div>\n",
              "  </div>\n",
              "  "
            ]
          },
          "metadata": {},
          "execution_count": 5
        }
      ]
    },
    {
      "cell_type": "code",
      "source": [
        "range(len(df['Model']))"
      ],
      "metadata": {
        "colab": {
          "base_uri": "https://localhost:8080/"
        },
        "id": "0VFb0CcBiXF-",
        "outputId": "6859f886-e689-48db-cd2d-4a15646b6336"
      },
      "execution_count": 6,
      "outputs": [
        {
          "output_type": "execute_result",
          "data": {
            "text/plain": [
              "range(0, 28752)"
            ]
          },
          "metadata": {},
          "execution_count": 6
        }
      ]
    },
    {
      "cell_type": "code",
      "source": [
        "#Data lookes very noisy so we will get the important features from this dataset\n",
        "\n",
        "#Firstly, we will get the company name from the model\n",
        "\n",
        "\n",
        "\n",
        "df['company']=df['Model'].apply(lambda x: x.split(' ')[0])"
      ],
      "metadata": {
        "id": "UFOMANxjgP8K"
      },
      "execution_count": 7,
      "outputs": []
    },
    {
      "cell_type": "code",
      "source": [
        "df.head()"
      ],
      "metadata": {
        "colab": {
          "base_uri": "https://localhost:8080/",
          "height": 354
        },
        "id": "XKGIRl9ahqA9",
        "outputId": "88d79939-8be4-4284-a6c1-4f71e5861b6e"
      },
      "execution_count": 8,
      "outputs": [
        {
          "output_type": "execute_result",
          "data": {
            "text/plain": [
              "   Unnamed: 0                                      Model      Mrp  Rating  \\\n",
              "0           0     Infinix HOT 20 Play (Luna Blue, 64 GB)   ₹8,199     4.3   \n",
              "1           1          MOTOROLA e40 (Carbon Gray, 64 GB)   ₹7,999     4.1   \n",
              "2           2              POCO C31 (Shadow Gray, 64 GB)   ₹7,499     4.3   \n",
              "3           3        REDMI 9i Sport (Coral Green, 64 GB)   ₹7,199     4.3   \n",
              "4           4  SAMSUNG Galaxy F23 5G (Aqua Blue, 128 GB)  ₹14,999     4.3   \n",
              "\n",
              "                              Review  \\\n",
              "0           505 Ratings & 52 Reviews   \n",
              "1     56,085 Ratings & 5,600 Reviews   \n",
              "2  1,83,688 Ratings & 11,185 Reviews   \n",
              "3  2,09,377 Ratings & 12,027 Reviews   \n",
              "4  1,37,778 Ratings & 11,213 Reviews   \n",
              "\n",
              "                                           Specs   company  \n",
              "0  4 GB RAM | 64 GB ROM | Expandable Upto 256 GB   Infinix  \n",
              "1    4 GB RAM | 64 GB ROM | Expandable Upto 1 TB  MOTOROLA  \n",
              "2  4 GB RAM | 64 GB ROM | Expandable Upto 512 GB      POCO  \n",
              "3  4 GB RAM | 64 GB ROM | Expandable Upto 512 GB     REDMI  \n",
              "4   6 GB RAM | 128 GB ROM | Expandable Upto 1 TB   SAMSUNG  "
            ],
            "text/html": [
              "\n",
              "  <div id=\"df-69a39bf0-e3d8-4e06-a7d8-0f28e029279a\">\n",
              "    <div class=\"colab-df-container\">\n",
              "      <div>\n",
              "<style scoped>\n",
              "    .dataframe tbody tr th:only-of-type {\n",
              "        vertical-align: middle;\n",
              "    }\n",
              "\n",
              "    .dataframe tbody tr th {\n",
              "        vertical-align: top;\n",
              "    }\n",
              "\n",
              "    .dataframe thead th {\n",
              "        text-align: right;\n",
              "    }\n",
              "</style>\n",
              "<table border=\"1\" class=\"dataframe\">\n",
              "  <thead>\n",
              "    <tr style=\"text-align: right;\">\n",
              "      <th></th>\n",
              "      <th>Unnamed: 0</th>\n",
              "      <th>Model</th>\n",
              "      <th>Mrp</th>\n",
              "      <th>Rating</th>\n",
              "      <th>Review</th>\n",
              "      <th>Specs</th>\n",
              "      <th>company</th>\n",
              "    </tr>\n",
              "  </thead>\n",
              "  <tbody>\n",
              "    <tr>\n",
              "      <th>0</th>\n",
              "      <td>0</td>\n",
              "      <td>Infinix HOT 20 Play (Luna Blue, 64 GB)</td>\n",
              "      <td>₹8,199</td>\n",
              "      <td>4.3</td>\n",
              "      <td>505 Ratings &amp; 52 Reviews</td>\n",
              "      <td>4 GB RAM | 64 GB ROM | Expandable Upto 256 GB</td>\n",
              "      <td>Infinix</td>\n",
              "    </tr>\n",
              "    <tr>\n",
              "      <th>1</th>\n",
              "      <td>1</td>\n",
              "      <td>MOTOROLA e40 (Carbon Gray, 64 GB)</td>\n",
              "      <td>₹7,999</td>\n",
              "      <td>4.1</td>\n",
              "      <td>56,085 Ratings &amp; 5,600 Reviews</td>\n",
              "      <td>4 GB RAM | 64 GB ROM | Expandable Upto 1 TB</td>\n",
              "      <td>MOTOROLA</td>\n",
              "    </tr>\n",
              "    <tr>\n",
              "      <th>2</th>\n",
              "      <td>2</td>\n",
              "      <td>POCO C31 (Shadow Gray, 64 GB)</td>\n",
              "      <td>₹7,499</td>\n",
              "      <td>4.3</td>\n",
              "      <td>1,83,688 Ratings &amp; 11,185 Reviews</td>\n",
              "      <td>4 GB RAM | 64 GB ROM | Expandable Upto 512 GB</td>\n",
              "      <td>POCO</td>\n",
              "    </tr>\n",
              "    <tr>\n",
              "      <th>3</th>\n",
              "      <td>3</td>\n",
              "      <td>REDMI 9i Sport (Coral Green, 64 GB)</td>\n",
              "      <td>₹7,199</td>\n",
              "      <td>4.3</td>\n",
              "      <td>2,09,377 Ratings &amp; 12,027 Reviews</td>\n",
              "      <td>4 GB RAM | 64 GB ROM | Expandable Upto 512 GB</td>\n",
              "      <td>REDMI</td>\n",
              "    </tr>\n",
              "    <tr>\n",
              "      <th>4</th>\n",
              "      <td>4</td>\n",
              "      <td>SAMSUNG Galaxy F23 5G (Aqua Blue, 128 GB)</td>\n",
              "      <td>₹14,999</td>\n",
              "      <td>4.3</td>\n",
              "      <td>1,37,778 Ratings &amp; 11,213 Reviews</td>\n",
              "      <td>6 GB RAM | 128 GB ROM | Expandable Upto 1 TB</td>\n",
              "      <td>SAMSUNG</td>\n",
              "    </tr>\n",
              "  </tbody>\n",
              "</table>\n",
              "</div>\n",
              "      <button class=\"colab-df-convert\" onclick=\"convertToInteractive('df-69a39bf0-e3d8-4e06-a7d8-0f28e029279a')\"\n",
              "              title=\"Convert this dataframe to an interactive table.\"\n",
              "              style=\"display:none;\">\n",
              "        \n",
              "  <svg xmlns=\"http://www.w3.org/2000/svg\" height=\"24px\"viewBox=\"0 0 24 24\"\n",
              "       width=\"24px\">\n",
              "    <path d=\"M0 0h24v24H0V0z\" fill=\"none\"/>\n",
              "    <path d=\"M18.56 5.44l.94 2.06.94-2.06 2.06-.94-2.06-.94-.94-2.06-.94 2.06-2.06.94zm-11 1L8.5 8.5l.94-2.06 2.06-.94-2.06-.94L8.5 2.5l-.94 2.06-2.06.94zm10 10l.94 2.06.94-2.06 2.06-.94-2.06-.94-.94-2.06-.94 2.06-2.06.94z\"/><path d=\"M17.41 7.96l-1.37-1.37c-.4-.4-.92-.59-1.43-.59-.52 0-1.04.2-1.43.59L10.3 9.45l-7.72 7.72c-.78.78-.78 2.05 0 2.83L4 21.41c.39.39.9.59 1.41.59.51 0 1.02-.2 1.41-.59l7.78-7.78 2.81-2.81c.8-.78.8-2.07 0-2.86zM5.41 20L4 18.59l7.72-7.72 1.47 1.35L5.41 20z\"/>\n",
              "  </svg>\n",
              "      </button>\n",
              "      \n",
              "  <style>\n",
              "    .colab-df-container {\n",
              "      display:flex;\n",
              "      flex-wrap:wrap;\n",
              "      gap: 12px;\n",
              "    }\n",
              "\n",
              "    .colab-df-convert {\n",
              "      background-color: #E8F0FE;\n",
              "      border: none;\n",
              "      border-radius: 50%;\n",
              "      cursor: pointer;\n",
              "      display: none;\n",
              "      fill: #1967D2;\n",
              "      height: 32px;\n",
              "      padding: 0 0 0 0;\n",
              "      width: 32px;\n",
              "    }\n",
              "\n",
              "    .colab-df-convert:hover {\n",
              "      background-color: #E2EBFA;\n",
              "      box-shadow: 0px 1px 2px rgba(60, 64, 67, 0.3), 0px 1px 3px 1px rgba(60, 64, 67, 0.15);\n",
              "      fill: #174EA6;\n",
              "    }\n",
              "\n",
              "    [theme=dark] .colab-df-convert {\n",
              "      background-color: #3B4455;\n",
              "      fill: #D2E3FC;\n",
              "    }\n",
              "\n",
              "    [theme=dark] .colab-df-convert:hover {\n",
              "      background-color: #434B5C;\n",
              "      box-shadow: 0px 1px 3px 1px rgba(0, 0, 0, 0.15);\n",
              "      filter: drop-shadow(0px 1px 2px rgba(0, 0, 0, 0.3));\n",
              "      fill: #FFFFFF;\n",
              "    }\n",
              "  </style>\n",
              "\n",
              "      <script>\n",
              "        const buttonEl =\n",
              "          document.querySelector('#df-69a39bf0-e3d8-4e06-a7d8-0f28e029279a button.colab-df-convert');\n",
              "        buttonEl.style.display =\n",
              "          google.colab.kernel.accessAllowed ? 'block' : 'none';\n",
              "\n",
              "        async function convertToInteractive(key) {\n",
              "          const element = document.querySelector('#df-69a39bf0-e3d8-4e06-a7d8-0f28e029279a');\n",
              "          const dataTable =\n",
              "            await google.colab.kernel.invokeFunction('convertToInteractive',\n",
              "                                                     [key], {});\n",
              "          if (!dataTable) return;\n",
              "\n",
              "          const docLinkHtml = 'Like what you see? Visit the ' +\n",
              "            '<a target=\"_blank\" href=https://colab.research.google.com/notebooks/data_table.ipynb>data table notebook</a>'\n",
              "            + ' to learn more about interactive tables.';\n",
              "          element.innerHTML = '';\n",
              "          dataTable['output_type'] = 'display_data';\n",
              "          await google.colab.output.renderOutput(dataTable, element);\n",
              "          const docLink = document.createElement('div');\n",
              "          docLink.innerHTML = docLinkHtml;\n",
              "          element.appendChild(docLink);\n",
              "        }\n",
              "      </script>\n",
              "    </div>\n",
              "  </div>\n",
              "  "
            ]
          },
          "metadata": {},
          "execution_count": 8
        }
      ]
    },
    {
      "cell_type": "code",
      "source": [
        "#Now get the RAM of the phone from the specs column\n",
        "\n",
        "df['Specs'].str.split('| ')[0][1]"
      ],
      "metadata": {
        "colab": {
          "base_uri": "https://localhost:8080/",
          "height": 36
        },
        "id": "kprNwSEvl3w5",
        "outputId": "a7f846c9-12e9-4d9d-b7f0-98e63d71753b"
      },
      "execution_count": 9,
      "outputs": [
        {
          "output_type": "execute_result",
          "data": {
            "text/plain": [
              "'4'"
            ],
            "application/vnd.google.colaboratory.intrinsic+json": {
              "type": "string"
            }
          },
          "metadata": {},
          "execution_count": 9
        }
      ]
    },
    {
      "cell_type": "code",
      "source": [
        "#Now apply the lambda function with multi-split to extract RAM\n",
        "\n",
        "df['Ram']=df['Specs'].apply(lambda x: x.split('|')[0])\n"
      ],
      "metadata": {
        "id": "bycXpVLBnrPI"
      },
      "execution_count": 10,
      "outputs": []
    },
    {
      "cell_type": "code",
      "source": [
        "df['Ram'].str.split(' ')[0][0]"
      ],
      "metadata": {
        "colab": {
          "base_uri": "https://localhost:8080/",
          "height": 36
        },
        "id": "41JxUfKqozLi",
        "outputId": "0376b7da-0671-40f9-dc79-b7a9b2db54e3"
      },
      "execution_count": 11,
      "outputs": [
        {
          "output_type": "execute_result",
          "data": {
            "text/plain": [
              "'4'"
            ],
            "application/vnd.google.colaboratory.intrinsic+json": {
              "type": "string"
            }
          },
          "metadata": {},
          "execution_count": 11
        }
      ]
    },
    {
      "cell_type": "code",
      "source": [
        "#Now again apply the split for specific integer\n",
        "\n",
        "df['Ram_size']=df['Ram'].apply(lambda x: x.split(' ')[0])\n"
      ],
      "metadata": {
        "id": "yLLFMzLwol9D"
      },
      "execution_count": 12,
      "outputs": []
    },
    {
      "cell_type": "code",
      "source": [
        "df.head()"
      ],
      "metadata": {
        "colab": {
          "base_uri": "https://localhost:8080/",
          "height": 354
        },
        "id": "-gu2RA59oahp",
        "outputId": "96e82734-1045-4888-fec1-fb8e06cb7fb0"
      },
      "execution_count": 13,
      "outputs": [
        {
          "output_type": "execute_result",
          "data": {
            "text/plain": [
              "   Unnamed: 0                                      Model      Mrp  Rating  \\\n",
              "0           0     Infinix HOT 20 Play (Luna Blue, 64 GB)   ₹8,199     4.3   \n",
              "1           1          MOTOROLA e40 (Carbon Gray, 64 GB)   ₹7,999     4.1   \n",
              "2           2              POCO C31 (Shadow Gray, 64 GB)   ₹7,499     4.3   \n",
              "3           3        REDMI 9i Sport (Coral Green, 64 GB)   ₹7,199     4.3   \n",
              "4           4  SAMSUNG Galaxy F23 5G (Aqua Blue, 128 GB)  ₹14,999     4.3   \n",
              "\n",
              "                              Review  \\\n",
              "0           505 Ratings & 52 Reviews   \n",
              "1     56,085 Ratings & 5,600 Reviews   \n",
              "2  1,83,688 Ratings & 11,185 Reviews   \n",
              "3  2,09,377 Ratings & 12,027 Reviews   \n",
              "4  1,37,778 Ratings & 11,213 Reviews   \n",
              "\n",
              "                                           Specs   company        Ram Ram_size  \n",
              "0  4 GB RAM | 64 GB ROM | Expandable Upto 256 GB   Infinix  4 GB RAM         4  \n",
              "1    4 GB RAM | 64 GB ROM | Expandable Upto 1 TB  MOTOROLA  4 GB RAM         4  \n",
              "2  4 GB RAM | 64 GB ROM | Expandable Upto 512 GB      POCO  4 GB RAM         4  \n",
              "3  4 GB RAM | 64 GB ROM | Expandable Upto 512 GB     REDMI  4 GB RAM         4  \n",
              "4   6 GB RAM | 128 GB ROM | Expandable Upto 1 TB   SAMSUNG  6 GB RAM         6  "
            ],
            "text/html": [
              "\n",
              "  <div id=\"df-dd722445-fc39-4256-9948-e39438de8427\">\n",
              "    <div class=\"colab-df-container\">\n",
              "      <div>\n",
              "<style scoped>\n",
              "    .dataframe tbody tr th:only-of-type {\n",
              "        vertical-align: middle;\n",
              "    }\n",
              "\n",
              "    .dataframe tbody tr th {\n",
              "        vertical-align: top;\n",
              "    }\n",
              "\n",
              "    .dataframe thead th {\n",
              "        text-align: right;\n",
              "    }\n",
              "</style>\n",
              "<table border=\"1\" class=\"dataframe\">\n",
              "  <thead>\n",
              "    <tr style=\"text-align: right;\">\n",
              "      <th></th>\n",
              "      <th>Unnamed: 0</th>\n",
              "      <th>Model</th>\n",
              "      <th>Mrp</th>\n",
              "      <th>Rating</th>\n",
              "      <th>Review</th>\n",
              "      <th>Specs</th>\n",
              "      <th>company</th>\n",
              "      <th>Ram</th>\n",
              "      <th>Ram_size</th>\n",
              "    </tr>\n",
              "  </thead>\n",
              "  <tbody>\n",
              "    <tr>\n",
              "      <th>0</th>\n",
              "      <td>0</td>\n",
              "      <td>Infinix HOT 20 Play (Luna Blue, 64 GB)</td>\n",
              "      <td>₹8,199</td>\n",
              "      <td>4.3</td>\n",
              "      <td>505 Ratings &amp; 52 Reviews</td>\n",
              "      <td>4 GB RAM | 64 GB ROM | Expandable Upto 256 GB</td>\n",
              "      <td>Infinix</td>\n",
              "      <td>4 GB RAM</td>\n",
              "      <td>4</td>\n",
              "    </tr>\n",
              "    <tr>\n",
              "      <th>1</th>\n",
              "      <td>1</td>\n",
              "      <td>MOTOROLA e40 (Carbon Gray, 64 GB)</td>\n",
              "      <td>₹7,999</td>\n",
              "      <td>4.1</td>\n",
              "      <td>56,085 Ratings &amp; 5,600 Reviews</td>\n",
              "      <td>4 GB RAM | 64 GB ROM | Expandable Upto 1 TB</td>\n",
              "      <td>MOTOROLA</td>\n",
              "      <td>4 GB RAM</td>\n",
              "      <td>4</td>\n",
              "    </tr>\n",
              "    <tr>\n",
              "      <th>2</th>\n",
              "      <td>2</td>\n",
              "      <td>POCO C31 (Shadow Gray, 64 GB)</td>\n",
              "      <td>₹7,499</td>\n",
              "      <td>4.3</td>\n",
              "      <td>1,83,688 Ratings &amp; 11,185 Reviews</td>\n",
              "      <td>4 GB RAM | 64 GB ROM | Expandable Upto 512 GB</td>\n",
              "      <td>POCO</td>\n",
              "      <td>4 GB RAM</td>\n",
              "      <td>4</td>\n",
              "    </tr>\n",
              "    <tr>\n",
              "      <th>3</th>\n",
              "      <td>3</td>\n",
              "      <td>REDMI 9i Sport (Coral Green, 64 GB)</td>\n",
              "      <td>₹7,199</td>\n",
              "      <td>4.3</td>\n",
              "      <td>2,09,377 Ratings &amp; 12,027 Reviews</td>\n",
              "      <td>4 GB RAM | 64 GB ROM | Expandable Upto 512 GB</td>\n",
              "      <td>REDMI</td>\n",
              "      <td>4 GB RAM</td>\n",
              "      <td>4</td>\n",
              "    </tr>\n",
              "    <tr>\n",
              "      <th>4</th>\n",
              "      <td>4</td>\n",
              "      <td>SAMSUNG Galaxy F23 5G (Aqua Blue, 128 GB)</td>\n",
              "      <td>₹14,999</td>\n",
              "      <td>4.3</td>\n",
              "      <td>1,37,778 Ratings &amp; 11,213 Reviews</td>\n",
              "      <td>6 GB RAM | 128 GB ROM | Expandable Upto 1 TB</td>\n",
              "      <td>SAMSUNG</td>\n",
              "      <td>6 GB RAM</td>\n",
              "      <td>6</td>\n",
              "    </tr>\n",
              "  </tbody>\n",
              "</table>\n",
              "</div>\n",
              "      <button class=\"colab-df-convert\" onclick=\"convertToInteractive('df-dd722445-fc39-4256-9948-e39438de8427')\"\n",
              "              title=\"Convert this dataframe to an interactive table.\"\n",
              "              style=\"display:none;\">\n",
              "        \n",
              "  <svg xmlns=\"http://www.w3.org/2000/svg\" height=\"24px\"viewBox=\"0 0 24 24\"\n",
              "       width=\"24px\">\n",
              "    <path d=\"M0 0h24v24H0V0z\" fill=\"none\"/>\n",
              "    <path d=\"M18.56 5.44l.94 2.06.94-2.06 2.06-.94-2.06-.94-.94-2.06-.94 2.06-2.06.94zm-11 1L8.5 8.5l.94-2.06 2.06-.94-2.06-.94L8.5 2.5l-.94 2.06-2.06.94zm10 10l.94 2.06.94-2.06 2.06-.94-2.06-.94-.94-2.06-.94 2.06-2.06.94z\"/><path d=\"M17.41 7.96l-1.37-1.37c-.4-.4-.92-.59-1.43-.59-.52 0-1.04.2-1.43.59L10.3 9.45l-7.72 7.72c-.78.78-.78 2.05 0 2.83L4 21.41c.39.39.9.59 1.41.59.51 0 1.02-.2 1.41-.59l7.78-7.78 2.81-2.81c.8-.78.8-2.07 0-2.86zM5.41 20L4 18.59l7.72-7.72 1.47 1.35L5.41 20z\"/>\n",
              "  </svg>\n",
              "      </button>\n",
              "      \n",
              "  <style>\n",
              "    .colab-df-container {\n",
              "      display:flex;\n",
              "      flex-wrap:wrap;\n",
              "      gap: 12px;\n",
              "    }\n",
              "\n",
              "    .colab-df-convert {\n",
              "      background-color: #E8F0FE;\n",
              "      border: none;\n",
              "      border-radius: 50%;\n",
              "      cursor: pointer;\n",
              "      display: none;\n",
              "      fill: #1967D2;\n",
              "      height: 32px;\n",
              "      padding: 0 0 0 0;\n",
              "      width: 32px;\n",
              "    }\n",
              "\n",
              "    .colab-df-convert:hover {\n",
              "      background-color: #E2EBFA;\n",
              "      box-shadow: 0px 1px 2px rgba(60, 64, 67, 0.3), 0px 1px 3px 1px rgba(60, 64, 67, 0.15);\n",
              "      fill: #174EA6;\n",
              "    }\n",
              "\n",
              "    [theme=dark] .colab-df-convert {\n",
              "      background-color: #3B4455;\n",
              "      fill: #D2E3FC;\n",
              "    }\n",
              "\n",
              "    [theme=dark] .colab-df-convert:hover {\n",
              "      background-color: #434B5C;\n",
              "      box-shadow: 0px 1px 3px 1px rgba(0, 0, 0, 0.15);\n",
              "      filter: drop-shadow(0px 1px 2px rgba(0, 0, 0, 0.3));\n",
              "      fill: #FFFFFF;\n",
              "    }\n",
              "  </style>\n",
              "\n",
              "      <script>\n",
              "        const buttonEl =\n",
              "          document.querySelector('#df-dd722445-fc39-4256-9948-e39438de8427 button.colab-df-convert');\n",
              "        buttonEl.style.display =\n",
              "          google.colab.kernel.accessAllowed ? 'block' : 'none';\n",
              "\n",
              "        async function convertToInteractive(key) {\n",
              "          const element = document.querySelector('#df-dd722445-fc39-4256-9948-e39438de8427');\n",
              "          const dataTable =\n",
              "            await google.colab.kernel.invokeFunction('convertToInteractive',\n",
              "                                                     [key], {});\n",
              "          if (!dataTable) return;\n",
              "\n",
              "          const docLinkHtml = 'Like what you see? Visit the ' +\n",
              "            '<a target=\"_blank\" href=https://colab.research.google.com/notebooks/data_table.ipynb>data table notebook</a>'\n",
              "            + ' to learn more about interactive tables.';\n",
              "          element.innerHTML = '';\n",
              "          dataTable['output_type'] = 'display_data';\n",
              "          await google.colab.output.renderOutput(dataTable, element);\n",
              "          const docLink = document.createElement('div');\n",
              "          docLink.innerHTML = docLinkHtml;\n",
              "          element.appendChild(docLink);\n",
              "        }\n",
              "      </script>\n",
              "    </div>\n",
              "  </div>\n",
              "  "
            ]
          },
          "metadata": {},
          "execution_count": 13
        }
      ]
    },
    {
      "cell_type": "code",
      "source": [
        "#Now lets grab the Memory size\n",
        "\n",
        "df['Model'].str.split(',')[0][0:3]"
      ],
      "metadata": {
        "colab": {
          "base_uri": "https://localhost:8080/"
        },
        "id": "SN14sTbpoiMm",
        "outputId": "4ce55705-f5d1-4b2b-bdcb-8da6a18ceb50"
      },
      "execution_count": 14,
      "outputs": [
        {
          "output_type": "execute_result",
          "data": {
            "text/plain": [
              "['Infinix HOT 20 Play (Luna Blue', ' 64 GB)']"
            ]
          },
          "metadata": {},
          "execution_count": 14
        }
      ]
    },
    {
      "cell_type": "code",
      "source": [
        "#Apply the lambda function\n",
        "\n",
        "df['Rom']=df['Model'].apply(lambda x: x.split(',')[-1])\n",
        "\n",
        "#Split again for specific integer\n",
        "\n",
        "df['Rom']=df['Rom'].apply(lambda x: x.split(\" \")[1])"
      ],
      "metadata": {
        "id": "aAJPYjwNpSrD"
      },
      "execution_count": 15,
      "outputs": []
    },
    {
      "cell_type": "code",
      "source": [
        "df.head()"
      ],
      "metadata": {
        "colab": {
          "base_uri": "https://localhost:8080/",
          "height": 354
        },
        "id": "2_xtDDgmpfcw",
        "outputId": "8046a37e-d1e0-4813-a009-561a8bfc3651"
      },
      "execution_count": 16,
      "outputs": [
        {
          "output_type": "execute_result",
          "data": {
            "text/plain": [
              "   Unnamed: 0                                      Model      Mrp  Rating  \\\n",
              "0           0     Infinix HOT 20 Play (Luna Blue, 64 GB)   ₹8,199     4.3   \n",
              "1           1          MOTOROLA e40 (Carbon Gray, 64 GB)   ₹7,999     4.1   \n",
              "2           2              POCO C31 (Shadow Gray, 64 GB)   ₹7,499     4.3   \n",
              "3           3        REDMI 9i Sport (Coral Green, 64 GB)   ₹7,199     4.3   \n",
              "4           4  SAMSUNG Galaxy F23 5G (Aqua Blue, 128 GB)  ₹14,999     4.3   \n",
              "\n",
              "                              Review  \\\n",
              "0           505 Ratings & 52 Reviews   \n",
              "1     56,085 Ratings & 5,600 Reviews   \n",
              "2  1,83,688 Ratings & 11,185 Reviews   \n",
              "3  2,09,377 Ratings & 12,027 Reviews   \n",
              "4  1,37,778 Ratings & 11,213 Reviews   \n",
              "\n",
              "                                           Specs   company        Ram  \\\n",
              "0  4 GB RAM | 64 GB ROM | Expandable Upto 256 GB   Infinix  4 GB RAM    \n",
              "1    4 GB RAM | 64 GB ROM | Expandable Upto 1 TB  MOTOROLA  4 GB RAM    \n",
              "2  4 GB RAM | 64 GB ROM | Expandable Upto 512 GB      POCO  4 GB RAM    \n",
              "3  4 GB RAM | 64 GB ROM | Expandable Upto 512 GB     REDMI  4 GB RAM    \n",
              "4   6 GB RAM | 128 GB ROM | Expandable Upto 1 TB   SAMSUNG  6 GB RAM    \n",
              "\n",
              "  Ram_size  Rom  \n",
              "0        4   64  \n",
              "1        4   64  \n",
              "2        4   64  \n",
              "3        4   64  \n",
              "4        6  128  "
            ],
            "text/html": [
              "\n",
              "  <div id=\"df-ad50504a-7239-4d4e-b5ad-93e738bc6403\">\n",
              "    <div class=\"colab-df-container\">\n",
              "      <div>\n",
              "<style scoped>\n",
              "    .dataframe tbody tr th:only-of-type {\n",
              "        vertical-align: middle;\n",
              "    }\n",
              "\n",
              "    .dataframe tbody tr th {\n",
              "        vertical-align: top;\n",
              "    }\n",
              "\n",
              "    .dataframe thead th {\n",
              "        text-align: right;\n",
              "    }\n",
              "</style>\n",
              "<table border=\"1\" class=\"dataframe\">\n",
              "  <thead>\n",
              "    <tr style=\"text-align: right;\">\n",
              "      <th></th>\n",
              "      <th>Unnamed: 0</th>\n",
              "      <th>Model</th>\n",
              "      <th>Mrp</th>\n",
              "      <th>Rating</th>\n",
              "      <th>Review</th>\n",
              "      <th>Specs</th>\n",
              "      <th>company</th>\n",
              "      <th>Ram</th>\n",
              "      <th>Ram_size</th>\n",
              "      <th>Rom</th>\n",
              "    </tr>\n",
              "  </thead>\n",
              "  <tbody>\n",
              "    <tr>\n",
              "      <th>0</th>\n",
              "      <td>0</td>\n",
              "      <td>Infinix HOT 20 Play (Luna Blue, 64 GB)</td>\n",
              "      <td>₹8,199</td>\n",
              "      <td>4.3</td>\n",
              "      <td>505 Ratings &amp; 52 Reviews</td>\n",
              "      <td>4 GB RAM | 64 GB ROM | Expandable Upto 256 GB</td>\n",
              "      <td>Infinix</td>\n",
              "      <td>4 GB RAM</td>\n",
              "      <td>4</td>\n",
              "      <td>64</td>\n",
              "    </tr>\n",
              "    <tr>\n",
              "      <th>1</th>\n",
              "      <td>1</td>\n",
              "      <td>MOTOROLA e40 (Carbon Gray, 64 GB)</td>\n",
              "      <td>₹7,999</td>\n",
              "      <td>4.1</td>\n",
              "      <td>56,085 Ratings &amp; 5,600 Reviews</td>\n",
              "      <td>4 GB RAM | 64 GB ROM | Expandable Upto 1 TB</td>\n",
              "      <td>MOTOROLA</td>\n",
              "      <td>4 GB RAM</td>\n",
              "      <td>4</td>\n",
              "      <td>64</td>\n",
              "    </tr>\n",
              "    <tr>\n",
              "      <th>2</th>\n",
              "      <td>2</td>\n",
              "      <td>POCO C31 (Shadow Gray, 64 GB)</td>\n",
              "      <td>₹7,499</td>\n",
              "      <td>4.3</td>\n",
              "      <td>1,83,688 Ratings &amp; 11,185 Reviews</td>\n",
              "      <td>4 GB RAM | 64 GB ROM | Expandable Upto 512 GB</td>\n",
              "      <td>POCO</td>\n",
              "      <td>4 GB RAM</td>\n",
              "      <td>4</td>\n",
              "      <td>64</td>\n",
              "    </tr>\n",
              "    <tr>\n",
              "      <th>3</th>\n",
              "      <td>3</td>\n",
              "      <td>REDMI 9i Sport (Coral Green, 64 GB)</td>\n",
              "      <td>₹7,199</td>\n",
              "      <td>4.3</td>\n",
              "      <td>2,09,377 Ratings &amp; 12,027 Reviews</td>\n",
              "      <td>4 GB RAM | 64 GB ROM | Expandable Upto 512 GB</td>\n",
              "      <td>REDMI</td>\n",
              "      <td>4 GB RAM</td>\n",
              "      <td>4</td>\n",
              "      <td>64</td>\n",
              "    </tr>\n",
              "    <tr>\n",
              "      <th>4</th>\n",
              "      <td>4</td>\n",
              "      <td>SAMSUNG Galaxy F23 5G (Aqua Blue, 128 GB)</td>\n",
              "      <td>₹14,999</td>\n",
              "      <td>4.3</td>\n",
              "      <td>1,37,778 Ratings &amp; 11,213 Reviews</td>\n",
              "      <td>6 GB RAM | 128 GB ROM | Expandable Upto 1 TB</td>\n",
              "      <td>SAMSUNG</td>\n",
              "      <td>6 GB RAM</td>\n",
              "      <td>6</td>\n",
              "      <td>128</td>\n",
              "    </tr>\n",
              "  </tbody>\n",
              "</table>\n",
              "</div>\n",
              "      <button class=\"colab-df-convert\" onclick=\"convertToInteractive('df-ad50504a-7239-4d4e-b5ad-93e738bc6403')\"\n",
              "              title=\"Convert this dataframe to an interactive table.\"\n",
              "              style=\"display:none;\">\n",
              "        \n",
              "  <svg xmlns=\"http://www.w3.org/2000/svg\" height=\"24px\"viewBox=\"0 0 24 24\"\n",
              "       width=\"24px\">\n",
              "    <path d=\"M0 0h24v24H0V0z\" fill=\"none\"/>\n",
              "    <path d=\"M18.56 5.44l.94 2.06.94-2.06 2.06-.94-2.06-.94-.94-2.06-.94 2.06-2.06.94zm-11 1L8.5 8.5l.94-2.06 2.06-.94-2.06-.94L8.5 2.5l-.94 2.06-2.06.94zm10 10l.94 2.06.94-2.06 2.06-.94-2.06-.94-.94-2.06-.94 2.06-2.06.94z\"/><path d=\"M17.41 7.96l-1.37-1.37c-.4-.4-.92-.59-1.43-.59-.52 0-1.04.2-1.43.59L10.3 9.45l-7.72 7.72c-.78.78-.78 2.05 0 2.83L4 21.41c.39.39.9.59 1.41.59.51 0 1.02-.2 1.41-.59l7.78-7.78 2.81-2.81c.8-.78.8-2.07 0-2.86zM5.41 20L4 18.59l7.72-7.72 1.47 1.35L5.41 20z\"/>\n",
              "  </svg>\n",
              "      </button>\n",
              "      \n",
              "  <style>\n",
              "    .colab-df-container {\n",
              "      display:flex;\n",
              "      flex-wrap:wrap;\n",
              "      gap: 12px;\n",
              "    }\n",
              "\n",
              "    .colab-df-convert {\n",
              "      background-color: #E8F0FE;\n",
              "      border: none;\n",
              "      border-radius: 50%;\n",
              "      cursor: pointer;\n",
              "      display: none;\n",
              "      fill: #1967D2;\n",
              "      height: 32px;\n",
              "      padding: 0 0 0 0;\n",
              "      width: 32px;\n",
              "    }\n",
              "\n",
              "    .colab-df-convert:hover {\n",
              "      background-color: #E2EBFA;\n",
              "      box-shadow: 0px 1px 2px rgba(60, 64, 67, 0.3), 0px 1px 3px 1px rgba(60, 64, 67, 0.15);\n",
              "      fill: #174EA6;\n",
              "    }\n",
              "\n",
              "    [theme=dark] .colab-df-convert {\n",
              "      background-color: #3B4455;\n",
              "      fill: #D2E3FC;\n",
              "    }\n",
              "\n",
              "    [theme=dark] .colab-df-convert:hover {\n",
              "      background-color: #434B5C;\n",
              "      box-shadow: 0px 1px 3px 1px rgba(0, 0, 0, 0.15);\n",
              "      filter: drop-shadow(0px 1px 2px rgba(0, 0, 0, 0.3));\n",
              "      fill: #FFFFFF;\n",
              "    }\n",
              "  </style>\n",
              "\n",
              "      <script>\n",
              "        const buttonEl =\n",
              "          document.querySelector('#df-ad50504a-7239-4d4e-b5ad-93e738bc6403 button.colab-df-convert');\n",
              "        buttonEl.style.display =\n",
              "          google.colab.kernel.accessAllowed ? 'block' : 'none';\n",
              "\n",
              "        async function convertToInteractive(key) {\n",
              "          const element = document.querySelector('#df-ad50504a-7239-4d4e-b5ad-93e738bc6403');\n",
              "          const dataTable =\n",
              "            await google.colab.kernel.invokeFunction('convertToInteractive',\n",
              "                                                     [key], {});\n",
              "          if (!dataTable) return;\n",
              "\n",
              "          const docLinkHtml = 'Like what you see? Visit the ' +\n",
              "            '<a target=\"_blank\" href=https://colab.research.google.com/notebooks/data_table.ipynb>data table notebook</a>'\n",
              "            + ' to learn more about interactive tables.';\n",
              "          element.innerHTML = '';\n",
              "          dataTable['output_type'] = 'display_data';\n",
              "          await google.colab.output.renderOutput(dataTable, element);\n",
              "          const docLink = document.createElement('div');\n",
              "          docLink.innerHTML = docLinkHtml;\n",
              "          element.appendChild(docLink);\n",
              "        }\n",
              "      </script>\n",
              "    </div>\n",
              "  </div>\n",
              "  "
            ]
          },
          "metadata": {},
          "execution_count": 16
        }
      ]
    },
    {
      "cell_type": "code",
      "source": [
        "df['Mrp'][0].replace('₹','')"
      ],
      "metadata": {
        "colab": {
          "base_uri": "https://localhost:8080/",
          "height": 36
        },
        "id": "wicgw91Fs2Wb",
        "outputId": "3ef4c595-042b-4020-9a10-b2d2f691bdcd"
      },
      "execution_count": 17,
      "outputs": [
        {
          "output_type": "execute_result",
          "data": {
            "text/plain": [
              "'8,199'"
            ],
            "application/vnd.google.colaboratory.intrinsic+json": {
              "type": "string"
            }
          },
          "metadata": {},
          "execution_count": 17
        }
      ]
    },
    {
      "cell_type": "code",
      "source": [
        "#Now lets grab the only Price with out ₹ sign by using replace function\n",
        "\n",
        "df['Mrp']=df['Mrp'].apply(lambda x: x.replace('₹',''))\n",
        "df['Mrp']=df['Mrp'].apply(lambda x: x.replace(',',''))\n",
        "df.head()\n"
      ],
      "metadata": {
        "colab": {
          "base_uri": "https://localhost:8080/",
          "height": 354
        },
        "id": "hCd-Y5oDpoxm",
        "outputId": "f6b236ce-4338-47de-9088-eb8bde53d39f"
      },
      "execution_count": 18,
      "outputs": [
        {
          "output_type": "execute_result",
          "data": {
            "text/plain": [
              "   Unnamed: 0                                      Model    Mrp  Rating  \\\n",
              "0           0     Infinix HOT 20 Play (Luna Blue, 64 GB)   8199     4.3   \n",
              "1           1          MOTOROLA e40 (Carbon Gray, 64 GB)   7999     4.1   \n",
              "2           2              POCO C31 (Shadow Gray, 64 GB)   7499     4.3   \n",
              "3           3        REDMI 9i Sport (Coral Green, 64 GB)   7199     4.3   \n",
              "4           4  SAMSUNG Galaxy F23 5G (Aqua Blue, 128 GB)  14999     4.3   \n",
              "\n",
              "                              Review  \\\n",
              "0           505 Ratings & 52 Reviews   \n",
              "1     56,085 Ratings & 5,600 Reviews   \n",
              "2  1,83,688 Ratings & 11,185 Reviews   \n",
              "3  2,09,377 Ratings & 12,027 Reviews   \n",
              "4  1,37,778 Ratings & 11,213 Reviews   \n",
              "\n",
              "                                           Specs   company        Ram  \\\n",
              "0  4 GB RAM | 64 GB ROM | Expandable Upto 256 GB   Infinix  4 GB RAM    \n",
              "1    4 GB RAM | 64 GB ROM | Expandable Upto 1 TB  MOTOROLA  4 GB RAM    \n",
              "2  4 GB RAM | 64 GB ROM | Expandable Upto 512 GB      POCO  4 GB RAM    \n",
              "3  4 GB RAM | 64 GB ROM | Expandable Upto 512 GB     REDMI  4 GB RAM    \n",
              "4   6 GB RAM | 128 GB ROM | Expandable Upto 1 TB   SAMSUNG  6 GB RAM    \n",
              "\n",
              "  Ram_size  Rom  \n",
              "0        4   64  \n",
              "1        4   64  \n",
              "2        4   64  \n",
              "3        4   64  \n",
              "4        6  128  "
            ],
            "text/html": [
              "\n",
              "  <div id=\"df-42269921-3fc0-408d-9962-de72d09339f5\">\n",
              "    <div class=\"colab-df-container\">\n",
              "      <div>\n",
              "<style scoped>\n",
              "    .dataframe tbody tr th:only-of-type {\n",
              "        vertical-align: middle;\n",
              "    }\n",
              "\n",
              "    .dataframe tbody tr th {\n",
              "        vertical-align: top;\n",
              "    }\n",
              "\n",
              "    .dataframe thead th {\n",
              "        text-align: right;\n",
              "    }\n",
              "</style>\n",
              "<table border=\"1\" class=\"dataframe\">\n",
              "  <thead>\n",
              "    <tr style=\"text-align: right;\">\n",
              "      <th></th>\n",
              "      <th>Unnamed: 0</th>\n",
              "      <th>Model</th>\n",
              "      <th>Mrp</th>\n",
              "      <th>Rating</th>\n",
              "      <th>Review</th>\n",
              "      <th>Specs</th>\n",
              "      <th>company</th>\n",
              "      <th>Ram</th>\n",
              "      <th>Ram_size</th>\n",
              "      <th>Rom</th>\n",
              "    </tr>\n",
              "  </thead>\n",
              "  <tbody>\n",
              "    <tr>\n",
              "      <th>0</th>\n",
              "      <td>0</td>\n",
              "      <td>Infinix HOT 20 Play (Luna Blue, 64 GB)</td>\n",
              "      <td>8199</td>\n",
              "      <td>4.3</td>\n",
              "      <td>505 Ratings &amp; 52 Reviews</td>\n",
              "      <td>4 GB RAM | 64 GB ROM | Expandable Upto 256 GB</td>\n",
              "      <td>Infinix</td>\n",
              "      <td>4 GB RAM</td>\n",
              "      <td>4</td>\n",
              "      <td>64</td>\n",
              "    </tr>\n",
              "    <tr>\n",
              "      <th>1</th>\n",
              "      <td>1</td>\n",
              "      <td>MOTOROLA e40 (Carbon Gray, 64 GB)</td>\n",
              "      <td>7999</td>\n",
              "      <td>4.1</td>\n",
              "      <td>56,085 Ratings &amp; 5,600 Reviews</td>\n",
              "      <td>4 GB RAM | 64 GB ROM | Expandable Upto 1 TB</td>\n",
              "      <td>MOTOROLA</td>\n",
              "      <td>4 GB RAM</td>\n",
              "      <td>4</td>\n",
              "      <td>64</td>\n",
              "    </tr>\n",
              "    <tr>\n",
              "      <th>2</th>\n",
              "      <td>2</td>\n",
              "      <td>POCO C31 (Shadow Gray, 64 GB)</td>\n",
              "      <td>7499</td>\n",
              "      <td>4.3</td>\n",
              "      <td>1,83,688 Ratings &amp; 11,185 Reviews</td>\n",
              "      <td>4 GB RAM | 64 GB ROM | Expandable Upto 512 GB</td>\n",
              "      <td>POCO</td>\n",
              "      <td>4 GB RAM</td>\n",
              "      <td>4</td>\n",
              "      <td>64</td>\n",
              "    </tr>\n",
              "    <tr>\n",
              "      <th>3</th>\n",
              "      <td>3</td>\n",
              "      <td>REDMI 9i Sport (Coral Green, 64 GB)</td>\n",
              "      <td>7199</td>\n",
              "      <td>4.3</td>\n",
              "      <td>2,09,377 Ratings &amp; 12,027 Reviews</td>\n",
              "      <td>4 GB RAM | 64 GB ROM | Expandable Upto 512 GB</td>\n",
              "      <td>REDMI</td>\n",
              "      <td>4 GB RAM</td>\n",
              "      <td>4</td>\n",
              "      <td>64</td>\n",
              "    </tr>\n",
              "    <tr>\n",
              "      <th>4</th>\n",
              "      <td>4</td>\n",
              "      <td>SAMSUNG Galaxy F23 5G (Aqua Blue, 128 GB)</td>\n",
              "      <td>14999</td>\n",
              "      <td>4.3</td>\n",
              "      <td>1,37,778 Ratings &amp; 11,213 Reviews</td>\n",
              "      <td>6 GB RAM | 128 GB ROM | Expandable Upto 1 TB</td>\n",
              "      <td>SAMSUNG</td>\n",
              "      <td>6 GB RAM</td>\n",
              "      <td>6</td>\n",
              "      <td>128</td>\n",
              "    </tr>\n",
              "  </tbody>\n",
              "</table>\n",
              "</div>\n",
              "      <button class=\"colab-df-convert\" onclick=\"convertToInteractive('df-42269921-3fc0-408d-9962-de72d09339f5')\"\n",
              "              title=\"Convert this dataframe to an interactive table.\"\n",
              "              style=\"display:none;\">\n",
              "        \n",
              "  <svg xmlns=\"http://www.w3.org/2000/svg\" height=\"24px\"viewBox=\"0 0 24 24\"\n",
              "       width=\"24px\">\n",
              "    <path d=\"M0 0h24v24H0V0z\" fill=\"none\"/>\n",
              "    <path d=\"M18.56 5.44l.94 2.06.94-2.06 2.06-.94-2.06-.94-.94-2.06-.94 2.06-2.06.94zm-11 1L8.5 8.5l.94-2.06 2.06-.94-2.06-.94L8.5 2.5l-.94 2.06-2.06.94zm10 10l.94 2.06.94-2.06 2.06-.94-2.06-.94-.94-2.06-.94 2.06-2.06.94z\"/><path d=\"M17.41 7.96l-1.37-1.37c-.4-.4-.92-.59-1.43-.59-.52 0-1.04.2-1.43.59L10.3 9.45l-7.72 7.72c-.78.78-.78 2.05 0 2.83L4 21.41c.39.39.9.59 1.41.59.51 0 1.02-.2 1.41-.59l7.78-7.78 2.81-2.81c.8-.78.8-2.07 0-2.86zM5.41 20L4 18.59l7.72-7.72 1.47 1.35L5.41 20z\"/>\n",
              "  </svg>\n",
              "      </button>\n",
              "      \n",
              "  <style>\n",
              "    .colab-df-container {\n",
              "      display:flex;\n",
              "      flex-wrap:wrap;\n",
              "      gap: 12px;\n",
              "    }\n",
              "\n",
              "    .colab-df-convert {\n",
              "      background-color: #E8F0FE;\n",
              "      border: none;\n",
              "      border-radius: 50%;\n",
              "      cursor: pointer;\n",
              "      display: none;\n",
              "      fill: #1967D2;\n",
              "      height: 32px;\n",
              "      padding: 0 0 0 0;\n",
              "      width: 32px;\n",
              "    }\n",
              "\n",
              "    .colab-df-convert:hover {\n",
              "      background-color: #E2EBFA;\n",
              "      box-shadow: 0px 1px 2px rgba(60, 64, 67, 0.3), 0px 1px 3px 1px rgba(60, 64, 67, 0.15);\n",
              "      fill: #174EA6;\n",
              "    }\n",
              "\n",
              "    [theme=dark] .colab-df-convert {\n",
              "      background-color: #3B4455;\n",
              "      fill: #D2E3FC;\n",
              "    }\n",
              "\n",
              "    [theme=dark] .colab-df-convert:hover {\n",
              "      background-color: #434B5C;\n",
              "      box-shadow: 0px 1px 3px 1px rgba(0, 0, 0, 0.15);\n",
              "      filter: drop-shadow(0px 1px 2px rgba(0, 0, 0, 0.3));\n",
              "      fill: #FFFFFF;\n",
              "    }\n",
              "  </style>\n",
              "\n",
              "      <script>\n",
              "        const buttonEl =\n",
              "          document.querySelector('#df-42269921-3fc0-408d-9962-de72d09339f5 button.colab-df-convert');\n",
              "        buttonEl.style.display =\n",
              "          google.colab.kernel.accessAllowed ? 'block' : 'none';\n",
              "\n",
              "        async function convertToInteractive(key) {\n",
              "          const element = document.querySelector('#df-42269921-3fc0-408d-9962-de72d09339f5');\n",
              "          const dataTable =\n",
              "            await google.colab.kernel.invokeFunction('convertToInteractive',\n",
              "                                                     [key], {});\n",
              "          if (!dataTable) return;\n",
              "\n",
              "          const docLinkHtml = 'Like what you see? Visit the ' +\n",
              "            '<a target=\"_blank\" href=https://colab.research.google.com/notebooks/data_table.ipynb>data table notebook</a>'\n",
              "            + ' to learn more about interactive tables.';\n",
              "          element.innerHTML = '';\n",
              "          dataTable['output_type'] = 'display_data';\n",
              "          await google.colab.output.renderOutput(dataTable, element);\n",
              "          const docLink = document.createElement('div');\n",
              "          docLink.innerHTML = docLinkHtml;\n",
              "          element.appendChild(docLink);\n",
              "        }\n",
              "      </script>\n",
              "    </div>\n",
              "  </div>\n",
              "  "
            ]
          },
          "metadata": {},
          "execution_count": 18
        }
      ]
    },
    {
      "cell_type": "code",
      "source": [],
      "metadata": {
        "id": "PcVznf56wPTo"
      },
      "execution_count": 18,
      "outputs": []
    },
    {
      "cell_type": "code",
      "source": [
        "#Now we grabed every thing according to need now drop the other columns\n",
        "\n",
        "df.drop(['Unnamed: 0','Model','Review','Specs','Ram'],axis=1,inplace=True)\n",
        "\n",
        "df.head()"
      ],
      "metadata": {
        "colab": {
          "base_uri": "https://localhost:8080/",
          "height": 206
        },
        "id": "K8VhPqXitTy-",
        "outputId": "4ed7eeed-e6ee-4e3d-e249-1c8d990bdeef"
      },
      "execution_count": 19,
      "outputs": [
        {
          "output_type": "execute_result",
          "data": {
            "text/plain": [
              "     Mrp  Rating   company Ram_size  Rom\n",
              "0   8199     4.3   Infinix        4   64\n",
              "1   7999     4.1  MOTOROLA        4   64\n",
              "2   7499     4.3      POCO        4   64\n",
              "3   7199     4.3     REDMI        4   64\n",
              "4  14999     4.3   SAMSUNG        6  128"
            ],
            "text/html": [
              "\n",
              "  <div id=\"df-0124c668-4fd1-424d-a492-5bf72038b333\">\n",
              "    <div class=\"colab-df-container\">\n",
              "      <div>\n",
              "<style scoped>\n",
              "    .dataframe tbody tr th:only-of-type {\n",
              "        vertical-align: middle;\n",
              "    }\n",
              "\n",
              "    .dataframe tbody tr th {\n",
              "        vertical-align: top;\n",
              "    }\n",
              "\n",
              "    .dataframe thead th {\n",
              "        text-align: right;\n",
              "    }\n",
              "</style>\n",
              "<table border=\"1\" class=\"dataframe\">\n",
              "  <thead>\n",
              "    <tr style=\"text-align: right;\">\n",
              "      <th></th>\n",
              "      <th>Mrp</th>\n",
              "      <th>Rating</th>\n",
              "      <th>company</th>\n",
              "      <th>Ram_size</th>\n",
              "      <th>Rom</th>\n",
              "    </tr>\n",
              "  </thead>\n",
              "  <tbody>\n",
              "    <tr>\n",
              "      <th>0</th>\n",
              "      <td>8199</td>\n",
              "      <td>4.3</td>\n",
              "      <td>Infinix</td>\n",
              "      <td>4</td>\n",
              "      <td>64</td>\n",
              "    </tr>\n",
              "    <tr>\n",
              "      <th>1</th>\n",
              "      <td>7999</td>\n",
              "      <td>4.1</td>\n",
              "      <td>MOTOROLA</td>\n",
              "      <td>4</td>\n",
              "      <td>64</td>\n",
              "    </tr>\n",
              "    <tr>\n",
              "      <th>2</th>\n",
              "      <td>7499</td>\n",
              "      <td>4.3</td>\n",
              "      <td>POCO</td>\n",
              "      <td>4</td>\n",
              "      <td>64</td>\n",
              "    </tr>\n",
              "    <tr>\n",
              "      <th>3</th>\n",
              "      <td>7199</td>\n",
              "      <td>4.3</td>\n",
              "      <td>REDMI</td>\n",
              "      <td>4</td>\n",
              "      <td>64</td>\n",
              "    </tr>\n",
              "    <tr>\n",
              "      <th>4</th>\n",
              "      <td>14999</td>\n",
              "      <td>4.3</td>\n",
              "      <td>SAMSUNG</td>\n",
              "      <td>6</td>\n",
              "      <td>128</td>\n",
              "    </tr>\n",
              "  </tbody>\n",
              "</table>\n",
              "</div>\n",
              "      <button class=\"colab-df-convert\" onclick=\"convertToInteractive('df-0124c668-4fd1-424d-a492-5bf72038b333')\"\n",
              "              title=\"Convert this dataframe to an interactive table.\"\n",
              "              style=\"display:none;\">\n",
              "        \n",
              "  <svg xmlns=\"http://www.w3.org/2000/svg\" height=\"24px\"viewBox=\"0 0 24 24\"\n",
              "       width=\"24px\">\n",
              "    <path d=\"M0 0h24v24H0V0z\" fill=\"none\"/>\n",
              "    <path d=\"M18.56 5.44l.94 2.06.94-2.06 2.06-.94-2.06-.94-.94-2.06-.94 2.06-2.06.94zm-11 1L8.5 8.5l.94-2.06 2.06-.94-2.06-.94L8.5 2.5l-.94 2.06-2.06.94zm10 10l.94 2.06.94-2.06 2.06-.94-2.06-.94-.94-2.06-.94 2.06-2.06.94z\"/><path d=\"M17.41 7.96l-1.37-1.37c-.4-.4-.92-.59-1.43-.59-.52 0-1.04.2-1.43.59L10.3 9.45l-7.72 7.72c-.78.78-.78 2.05 0 2.83L4 21.41c.39.39.9.59 1.41.59.51 0 1.02-.2 1.41-.59l7.78-7.78 2.81-2.81c.8-.78.8-2.07 0-2.86zM5.41 20L4 18.59l7.72-7.72 1.47 1.35L5.41 20z\"/>\n",
              "  </svg>\n",
              "      </button>\n",
              "      \n",
              "  <style>\n",
              "    .colab-df-container {\n",
              "      display:flex;\n",
              "      flex-wrap:wrap;\n",
              "      gap: 12px;\n",
              "    }\n",
              "\n",
              "    .colab-df-convert {\n",
              "      background-color: #E8F0FE;\n",
              "      border: none;\n",
              "      border-radius: 50%;\n",
              "      cursor: pointer;\n",
              "      display: none;\n",
              "      fill: #1967D2;\n",
              "      height: 32px;\n",
              "      padding: 0 0 0 0;\n",
              "      width: 32px;\n",
              "    }\n",
              "\n",
              "    .colab-df-convert:hover {\n",
              "      background-color: #E2EBFA;\n",
              "      box-shadow: 0px 1px 2px rgba(60, 64, 67, 0.3), 0px 1px 3px 1px rgba(60, 64, 67, 0.15);\n",
              "      fill: #174EA6;\n",
              "    }\n",
              "\n",
              "    [theme=dark] .colab-df-convert {\n",
              "      background-color: #3B4455;\n",
              "      fill: #D2E3FC;\n",
              "    }\n",
              "\n",
              "    [theme=dark] .colab-df-convert:hover {\n",
              "      background-color: #434B5C;\n",
              "      box-shadow: 0px 1px 3px 1px rgba(0, 0, 0, 0.15);\n",
              "      filter: drop-shadow(0px 1px 2px rgba(0, 0, 0, 0.3));\n",
              "      fill: #FFFFFF;\n",
              "    }\n",
              "  </style>\n",
              "\n",
              "      <script>\n",
              "        const buttonEl =\n",
              "          document.querySelector('#df-0124c668-4fd1-424d-a492-5bf72038b333 button.colab-df-convert');\n",
              "        buttonEl.style.display =\n",
              "          google.colab.kernel.accessAllowed ? 'block' : 'none';\n",
              "\n",
              "        async function convertToInteractive(key) {\n",
              "          const element = document.querySelector('#df-0124c668-4fd1-424d-a492-5bf72038b333');\n",
              "          const dataTable =\n",
              "            await google.colab.kernel.invokeFunction('convertToInteractive',\n",
              "                                                     [key], {});\n",
              "          if (!dataTable) return;\n",
              "\n",
              "          const docLinkHtml = 'Like what you see? Visit the ' +\n",
              "            '<a target=\"_blank\" href=https://colab.research.google.com/notebooks/data_table.ipynb>data table notebook</a>'\n",
              "            + ' to learn more about interactive tables.';\n",
              "          element.innerHTML = '';\n",
              "          dataTable['output_type'] = 'display_data';\n",
              "          await google.colab.output.renderOutput(dataTable, element);\n",
              "          const docLink = document.createElement('div');\n",
              "          docLink.innerHTML = docLinkHtml;\n",
              "          element.appendChild(docLink);\n",
              "        }\n",
              "      </script>\n",
              "    </div>\n",
              "  </div>\n",
              "  "
            ]
          },
          "metadata": {},
          "execution_count": 19
        }
      ]
    },
    {
      "cell_type": "code",
      "source": [
        "#Now check Description for statistics\n",
        "df.describe()"
      ],
      "metadata": {
        "colab": {
          "base_uri": "https://localhost:8080/",
          "height": 300
        },
        "id": "Hpnq21GwvGdR",
        "outputId": "c87cb796-6270-48c6-dc51-616dada45be6"
      },
      "execution_count": 20,
      "outputs": [
        {
          "output_type": "execute_result",
          "data": {
            "text/plain": [
              "             Rating\n",
              "count  28040.000000\n",
              "mean       4.232418\n",
              "std        0.210583\n",
              "min        2.700000\n",
              "25%        4.100000\n",
              "50%        4.200000\n",
              "75%        4.400000\n",
              "max        4.700000"
            ],
            "text/html": [
              "\n",
              "  <div id=\"df-19ac605a-9c70-42ed-8b60-7893232db05a\">\n",
              "    <div class=\"colab-df-container\">\n",
              "      <div>\n",
              "<style scoped>\n",
              "    .dataframe tbody tr th:only-of-type {\n",
              "        vertical-align: middle;\n",
              "    }\n",
              "\n",
              "    .dataframe tbody tr th {\n",
              "        vertical-align: top;\n",
              "    }\n",
              "\n",
              "    .dataframe thead th {\n",
              "        text-align: right;\n",
              "    }\n",
              "</style>\n",
              "<table border=\"1\" class=\"dataframe\">\n",
              "  <thead>\n",
              "    <tr style=\"text-align: right;\">\n",
              "      <th></th>\n",
              "      <th>Rating</th>\n",
              "    </tr>\n",
              "  </thead>\n",
              "  <tbody>\n",
              "    <tr>\n",
              "      <th>count</th>\n",
              "      <td>28040.000000</td>\n",
              "    </tr>\n",
              "    <tr>\n",
              "      <th>mean</th>\n",
              "      <td>4.232418</td>\n",
              "    </tr>\n",
              "    <tr>\n",
              "      <th>std</th>\n",
              "      <td>0.210583</td>\n",
              "    </tr>\n",
              "    <tr>\n",
              "      <th>min</th>\n",
              "      <td>2.700000</td>\n",
              "    </tr>\n",
              "    <tr>\n",
              "      <th>25%</th>\n",
              "      <td>4.100000</td>\n",
              "    </tr>\n",
              "    <tr>\n",
              "      <th>50%</th>\n",
              "      <td>4.200000</td>\n",
              "    </tr>\n",
              "    <tr>\n",
              "      <th>75%</th>\n",
              "      <td>4.400000</td>\n",
              "    </tr>\n",
              "    <tr>\n",
              "      <th>max</th>\n",
              "      <td>4.700000</td>\n",
              "    </tr>\n",
              "  </tbody>\n",
              "</table>\n",
              "</div>\n",
              "      <button class=\"colab-df-convert\" onclick=\"convertToInteractive('df-19ac605a-9c70-42ed-8b60-7893232db05a')\"\n",
              "              title=\"Convert this dataframe to an interactive table.\"\n",
              "              style=\"display:none;\">\n",
              "        \n",
              "  <svg xmlns=\"http://www.w3.org/2000/svg\" height=\"24px\"viewBox=\"0 0 24 24\"\n",
              "       width=\"24px\">\n",
              "    <path d=\"M0 0h24v24H0V0z\" fill=\"none\"/>\n",
              "    <path d=\"M18.56 5.44l.94 2.06.94-2.06 2.06-.94-2.06-.94-.94-2.06-.94 2.06-2.06.94zm-11 1L8.5 8.5l.94-2.06 2.06-.94-2.06-.94L8.5 2.5l-.94 2.06-2.06.94zm10 10l.94 2.06.94-2.06 2.06-.94-2.06-.94-.94-2.06-.94 2.06-2.06.94z\"/><path d=\"M17.41 7.96l-1.37-1.37c-.4-.4-.92-.59-1.43-.59-.52 0-1.04.2-1.43.59L10.3 9.45l-7.72 7.72c-.78.78-.78 2.05 0 2.83L4 21.41c.39.39.9.59 1.41.59.51 0 1.02-.2 1.41-.59l7.78-7.78 2.81-2.81c.8-.78.8-2.07 0-2.86zM5.41 20L4 18.59l7.72-7.72 1.47 1.35L5.41 20z\"/>\n",
              "  </svg>\n",
              "      </button>\n",
              "      \n",
              "  <style>\n",
              "    .colab-df-container {\n",
              "      display:flex;\n",
              "      flex-wrap:wrap;\n",
              "      gap: 12px;\n",
              "    }\n",
              "\n",
              "    .colab-df-convert {\n",
              "      background-color: #E8F0FE;\n",
              "      border: none;\n",
              "      border-radius: 50%;\n",
              "      cursor: pointer;\n",
              "      display: none;\n",
              "      fill: #1967D2;\n",
              "      height: 32px;\n",
              "      padding: 0 0 0 0;\n",
              "      width: 32px;\n",
              "    }\n",
              "\n",
              "    .colab-df-convert:hover {\n",
              "      background-color: #E2EBFA;\n",
              "      box-shadow: 0px 1px 2px rgba(60, 64, 67, 0.3), 0px 1px 3px 1px rgba(60, 64, 67, 0.15);\n",
              "      fill: #174EA6;\n",
              "    }\n",
              "\n",
              "    [theme=dark] .colab-df-convert {\n",
              "      background-color: #3B4455;\n",
              "      fill: #D2E3FC;\n",
              "    }\n",
              "\n",
              "    [theme=dark] .colab-df-convert:hover {\n",
              "      background-color: #434B5C;\n",
              "      box-shadow: 0px 1px 3px 1px rgba(0, 0, 0, 0.15);\n",
              "      filter: drop-shadow(0px 1px 2px rgba(0, 0, 0, 0.3));\n",
              "      fill: #FFFFFF;\n",
              "    }\n",
              "  </style>\n",
              "\n",
              "      <script>\n",
              "        const buttonEl =\n",
              "          document.querySelector('#df-19ac605a-9c70-42ed-8b60-7893232db05a button.colab-df-convert');\n",
              "        buttonEl.style.display =\n",
              "          google.colab.kernel.accessAllowed ? 'block' : 'none';\n",
              "\n",
              "        async function convertToInteractive(key) {\n",
              "          const element = document.querySelector('#df-19ac605a-9c70-42ed-8b60-7893232db05a');\n",
              "          const dataTable =\n",
              "            await google.colab.kernel.invokeFunction('convertToInteractive',\n",
              "                                                     [key], {});\n",
              "          if (!dataTable) return;\n",
              "\n",
              "          const docLinkHtml = 'Like what you see? Visit the ' +\n",
              "            '<a target=\"_blank\" href=https://colab.research.google.com/notebooks/data_table.ipynb>data table notebook</a>'\n",
              "            + ' to learn more about interactive tables.';\n",
              "          element.innerHTML = '';\n",
              "          dataTable['output_type'] = 'display_data';\n",
              "          await google.colab.output.renderOutput(dataTable, element);\n",
              "          const docLink = document.createElement('div');\n",
              "          docLink.innerHTML = docLinkHtml;\n",
              "          element.appendChild(docLink);\n",
              "        }\n",
              "      </script>\n",
              "    </div>\n",
              "  </div>\n",
              "  "
            ]
          },
          "metadata": {},
          "execution_count": 20
        }
      ]
    },
    {
      "cell_type": "code",
      "source": [
        "df.info()"
      ],
      "metadata": {
        "colab": {
          "base_uri": "https://localhost:8080/"
        },
        "id": "KGJxOSCmvQ8M",
        "outputId": "beebe224-d3cb-4d3c-8a4d-744e1ccec8b4"
      },
      "execution_count": 21,
      "outputs": [
        {
          "output_type": "stream",
          "name": "stdout",
          "text": [
            "<class 'pandas.core.frame.DataFrame'>\n",
            "RangeIndex: 28752 entries, 0 to 28751\n",
            "Data columns (total 5 columns):\n",
            " #   Column    Non-Null Count  Dtype  \n",
            "---  ------    --------------  -----  \n",
            " 0   Mrp       28752 non-null  object \n",
            " 1   Rating    28040 non-null  float64\n",
            " 2   company   28752 non-null  object \n",
            " 3   Ram_size  28752 non-null  object \n",
            " 4   Rom       28752 non-null  object \n",
            "dtypes: float64(1), object(4)\n",
            "memory usage: 1.1+ MB\n"
          ]
        }
      ]
    },
    {
      "cell_type": "code",
      "source": [
        "#Let's check for null values\n",
        "df.isnull().sum()"
      ],
      "metadata": {
        "colab": {
          "base_uri": "https://localhost:8080/"
        },
        "id": "HD1JY6D-w_0Z",
        "outputId": "3f776a71-4daa-41ed-d348-c0a2158de1af"
      },
      "execution_count": 22,
      "outputs": [
        {
          "output_type": "execute_result",
          "data": {
            "text/plain": [
              "Mrp           0\n",
              "Rating      712\n",
              "company       0\n",
              "Ram_size      0\n",
              "Rom           0\n",
              "dtype: int64"
            ]
          },
          "metadata": {},
          "execution_count": 22
        }
      ]
    },
    {
      "cell_type": "code",
      "source": [
        "#Now we fill this Rating column null values with SKlearn simple imputer \n",
        "#Or remove these values becuase these cannot be filled by looking at any other column or with mean,median,mode this will effect our model later\n",
        "#Remove\n",
        "\n",
        "df.dropna(inplace=True)\n",
        "df.isnull().sum()"
      ],
      "metadata": {
        "colab": {
          "base_uri": "https://localhost:8080/"
        },
        "id": "1JCe52LbxKm_",
        "outputId": "833dcfb2-fa69-4e72-b28b-4086b6ec4487"
      },
      "execution_count": 23,
      "outputs": [
        {
          "output_type": "execute_result",
          "data": {
            "text/plain": [
              "Mrp         0\n",
              "Rating      0\n",
              "company     0\n",
              "Ram_size    0\n",
              "Rom         0\n",
              "dtype: int64"
            ]
          },
          "metadata": {},
          "execution_count": 23
        }
      ]
    },
    {
      "cell_type": "code",
      "source": [
        "#Now let's check the unique values of Ram Size\n",
        "df['Ram_size'].unique()\n"
      ],
      "metadata": {
        "colab": {
          "base_uri": "https://localhost:8080/"
        },
        "id": "1CN-7OKMymSj",
        "outputId": "815239a3-54d2-4191-f6da-21e7df73ef43"
      },
      "execution_count": 24,
      "outputs": [
        {
          "output_type": "execute_result",
          "data": {
            "text/plain": [
              "array(['4', '6', '128', '2', '8', '32', '3', '64', '256', '0', 'NA', '31',\n",
              "       '30', '12', '153', '24', '56', 'Expandable', '0.53', '512', '10',\n",
              "       '6.6', '20'], dtype=object)"
            ]
          },
          "metadata": {},
          "execution_count": 24
        }
      ]
    },
    {
      "cell_type": "code",
      "source": [
        "#Let's calculate the unexpected values\n",
        "len(df[df['Ram_size']=='Expandable'])+len(df[df['Ram_size']=='NA'])+len(df[df['Ram_size']=='0'])"
      ],
      "metadata": {
        "colab": {
          "base_uri": "https://localhost:8080/"
        },
        "id": "9mIi7HPEzHEw",
        "outputId": "aaad3db9-5913-4e7c-a9ab-28f5f658bb1c"
      },
      "execution_count": 25,
      "outputs": [
        {
          "output_type": "execute_result",
          "data": {
            "text/plain": [
              "663"
            ]
          },
          "metadata": {},
          "execution_count": 25
        }
      ]
    },
    {
      "cell_type": "code",
      "source": [
        "#These are only few values so we can remove these\n",
        "df.drop(df[df['Ram_size']=='Expandable'].index,inplace=True)\n"
      ],
      "metadata": {
        "id": "yFKfvkip0IBP"
      },
      "execution_count": 26,
      "outputs": []
    },
    {
      "cell_type": "code",
      "source": [
        "df.drop(df[df['Ram_size']=='0'].index,inplace=True)\n",
        "df.drop(df[df['Ram_size']=='NA'].index,inplace=True)"
      ],
      "metadata": {
        "id": "5AIZSkic1d-q"
      },
      "execution_count": 27,
      "outputs": []
    },
    {
      "cell_type": "code",
      "source": [
        "df['Ram_size'].unique()"
      ],
      "metadata": {
        "colab": {
          "base_uri": "https://localhost:8080/"
        },
        "id": "Fds-YywQymHy",
        "outputId": "47a3f761-cfce-4700-b3d4-93b8fa4e3ea7"
      },
      "execution_count": 28,
      "outputs": [
        {
          "output_type": "execute_result",
          "data": {
            "text/plain": [
              "array(['4', '6', '128', '2', '8', '32', '3', '64', '256', '31', '30',\n",
              "       '12', '153', '24', '56', '0.53', '512', '10', '6.6', '20'],\n",
              "      dtype=object)"
            ]
          },
          "metadata": {},
          "execution_count": 28
        }
      ]
    },
    {
      "cell_type": "code",
      "source": [
        "#Let's check for Rom if any wrong value\n",
        "df['Rom'].unique()"
      ],
      "metadata": {
        "colab": {
          "base_uri": "https://localhost:8080/"
        },
        "id": "mW_xu_AT1lwY",
        "outputId": "5559460e-c444-4659-eb63-28d383ad9a9a"
      },
      "execution_count": 29,
      "outputs": [
        {
          "output_type": "execute_result",
          "data": {
            "text/plain": [
              "array(['64', '128', '32', '105', '256', 'A3', 'GURU', '150', 'X412',\n",
              "       'It2171', 'KX3', 'X415', 'Flip', '110', 'Ace2', 'X512', 'X708',\n",
              "       'a70', 'Hero', 'Gem', 'A1', 'Guru', 'K112', 'F1', '34', 'Contact',\n",
              "       'Ferrari', 'Star', 'M5000', 'Ace', 'V8', 'it2175', 'X818', 'X513+',\n",
              "       'K28', 'Power', 'M1', '125', 'IT5626', 'TA-1304/105', 'J2',\n",
              "       'K106s', 'it2163S', 'Hardcase', 'K66', 'A26', 'K115',\n",
              "       'TA-1010/105', 'K55', 'A5', 'J22', 'Coral', 'K9', 'X755', 'Magic3',\n",
              "       'K33', 'X746', 'U20', 'One', 'a50', 'Muzik', 'X413', 'S115',\n",
              "       'BOLD', 'Rock', 'X756', 'K200', '105DS', 'Metro', 'K310i', 'MT322',\n",
              "       'by', 'it5026', 'B310', 'K140', 'IT2163', 'X778', 'K05', 'LF9000',\n",
              "       'R3+', 'K-22', 'K10', 'X416', 'M380', 'K16', 'X389', 'MagicX',\n",
              "       'A9', '512', 'X809', 'IT5026'], dtype=object)"
            ]
          },
          "metadata": {},
          "execution_count": 29
        }
      ]
    },
    {
      "cell_type": "code",
      "source": [
        "len(df[df['Rom']=='64'])+len(df[df['Rom']=='128'])+len(df[df['Rom']=='32'])+len(df[df['Rom']=='105'])+len(df[df['Rom']=='256'])+len(df[df['Rom']=='150'])+len(df[df['Rom']=='110'])+len(df[df['Rom']=='34'])+len(df[df['Rom']=='125'])+len(df[df['Rom']=='512'])"
      ],
      "metadata": {
        "colab": {
          "base_uri": "https://localhost:8080/"
        },
        "id": "q5jKZtuL2K0l",
        "outputId": "21832b1d-b737-47d7-fa4e-c7f573dd0f41"
      },
      "execution_count": 30,
      "outputs": [
        {
          "output_type": "execute_result",
          "data": {
            "text/plain": [
              "22441"
            ]
          },
          "metadata": {},
          "execution_count": 30
        }
      ]
    },
    {
      "cell_type": "code",
      "source": [
        "df.drop(df[df['Rom']=='A3'].index,inplace=True)\n",
        "df.drop(df[df['Rom']=='GURU'].index,inplace=True)\n",
        "df.drop(df[df['Rom']=='X412'].index,inplace=True)\n",
        "df.drop(df[df['Rom']=='It2171'].index,inplace=True)\n",
        "df.drop(df[df['Rom']=='KX3'].index,inplace=True)\n",
        "df.drop(df[df['Rom']=='X415'].index,inplace=True)\n",
        "df.drop(df[df['Rom']=='Flip'].index,inplace=True)\n",
        "df.drop(df[df['Rom']=='Ace2'].index,inplace=True)\n",
        "df.drop(df[df['Rom']=='X512'].index,inplace=True)\n",
        "df.drop(df[df['Rom']=='X708'].index,inplace=True)\n",
        "df.drop(df[df['Rom']=='Hero'].index,inplace=True)\n",
        "df.drop(df[df['Rom']=='Gem'].index,inplace=True)\n",
        "df.drop(df[df['Rom']=='Guru'].index,inplace=True)\n",
        "df.drop(df[df['Rom']=='K112'].index,inplace=True)\n",
        "df.drop(df[df['Rom']=='F1'].index,inplace=True)\n",
        "df.drop(df[df['Rom']=='Contact'].index,inplace=True)\n",
        "df.drop(df[df['Rom']=='Ferrari'].index,inplace=True)\n",
        "df.drop(df[df['Rom']=='Star'].index,inplace=True)\n",
        "df.drop(df[df['Rom']=='M5000'].index,inplace=True)\n",
        "df.drop(df[df['Rom']=='Ace'].index,inplace=True)\n",
        "df.drop(df[df['Rom']=='V8'].index,inplace=True)\n",
        "df.drop(df[df['Rom']=='it2175'].index,inplace=True)\n",
        "df.drop(df[df['Rom']=='X818'].index,inplace=True)\n",
        "df.drop(df[df['Rom']=='X513+'].index,inplace=True)\n",
        "df.drop(df[df['Rom']=='K28'].index,inplace=True)\n",
        "df.drop(df[df['Rom']=='Power'].index,inplace=True)\n",
        "df.drop(df[df['Rom']=='M1'].index,inplace=True)\n",
        "df.drop(df[df['Rom']=='IT5626'].index,inplace=True)\n",
        "df.drop(df[df['Rom']=='TA-1304/105'].index,inplace=True)\n",
        "df.drop(df[df['Rom']=='J2'].index,inplace=True)\n",
        "df.drop(df[df['Rom']=='K106s'].index,inplace=True)\n",
        "df.drop(df[df['Rom']=='it2163S'].index,inplace=True)\n",
        "df.drop(df[df['Rom']=='Hardcase'].index,inplace=True)\n",
        "df.drop(df[df['Rom']=='K66'].index,inplace=True)\n",
        "df.drop(df[df['Rom']=='A26'].index,inplace=True)\n",
        "df.drop(df[df['Rom']=='K115'].index,inplace=True)\n",
        "df.drop(df[df['Rom']=='TA-1010/105'].index,inplace=True)\n",
        "df.drop(df[df['Rom']=='K55'].index,inplace=True)\n",
        "df.drop(df[df['Rom']=='A5'].index,inplace=True)\n",
        "df.drop(df[df['Rom']=='J22'].index,inplace=True)\n",
        "df.drop(df[df['Rom']=='Coral'].index,inplace=True)\n",
        "df.drop(df[df['Rom']=='K9'].index,inplace=True)\n",
        "df.drop(df[df['Rom']=='X755'].index,inplace=True)\n",
        "df.drop(df[df['Rom']=='Magic3'].index,inplace=True)\n",
        "df.drop(df[df['Rom']=='K33'].index,inplace=True)\n",
        "df.drop(df[df['Rom']=='X746'].index,inplace=True)\n",
        "df.drop(df[df['Rom']=='U20'].index,inplace=True)\n",
        "df.drop(df[df['Rom']=='One'].index,inplace=True)\n",
        "df.drop(df[df['Rom']=='a50'].index,inplace=True)\n",
        "df.drop(df[df['Rom']=='Muzik'].index,inplace=True)\n",
        "df.drop(df[df['Rom']=='X413'].index,inplace=True)\n",
        "df.drop(df[df['Rom']=='S115'].index,inplace=True)\n",
        "df.drop(df[df['Rom']=='BOLD'].index,inplace=True)\n",
        "df.drop(df[df['Rom']=='Rock'].index,inplace=True)\n",
        "df.drop(df[df['Rom']=='X756'].index,inplace=True)\n",
        "df.drop(df[df['Rom']=='K200'].index,inplace=True)\n",
        "df.drop(df[df['Rom']=='105DS'].index,inplace=True)\n",
        "df.drop(df[df['Rom']=='Metro'].index,inplace=True)\n",
        "df.drop(df[df['Rom']=='K310i'].index,inplace=True)\n",
        "df.drop(df[df['Rom']=='MT322'].index,inplace=True)\n",
        "\n",
        "df.drop(df[df['Rom']=='by'].index,inplace=True)\n",
        "df.drop(df[df['Rom']=='it5026'].index,inplace=True)\n",
        "df.drop(df[df['Rom']=='X778'].index,inplace=True)\n",
        "df.drop(df[df['Rom']=='IT2163'].index,inplace=True)\n",
        "df.drop(df[df['Rom']=='K05'].index,inplace=True)\n",
        "df.drop(df[df['Rom']=='LF9000'].index,inplace=True)\n",
        "df.drop(df[df['Rom']=='B310'].index,inplace=True)\n",
        "df.drop(df[df['Rom']=='K140'].index,inplace=True)\n",
        "df.drop(df[df['Rom']=='R3+'].index,inplace=True)\n",
        "df.drop(df[df['Rom']=='K-22'].index,inplace=True)\n",
        "df.drop(df[df['Rom']=='K10'].index,inplace=True)\n",
        "df.drop(df[df['Rom']=='X416'].index,inplace=True)\n",
        "df.drop(df[df['Rom']=='M380'].index,inplace=True)\n",
        "df.drop(df[df['Rom']=='K16'].index,inplace=True)\n",
        "df.drop(df[df['Rom']=='X389'].index,inplace=True)\n",
        "df.drop(df[df['Rom']=='MagicX'].index,inplace=True)\n",
        "df.drop(df[df['Rom']=='A9'].index,inplace=True)\n",
        "df.drop(df[df['Rom']=='X809'].index,inplace=True)\n",
        "df.drop(df[df['Rom']=='IT5026'].index,inplace=True)"
      ],
      "metadata": {
        "id": "6pazaeAZ6WqN"
      },
      "execution_count": 31,
      "outputs": []
    },
    {
      "cell_type": "code",
      "source": [
        "#Let's check for Rom if any wrong value\n",
        "df['Rom'].unique()"
      ],
      "metadata": {
        "colab": {
          "base_uri": "https://localhost:8080/"
        },
        "id": "lxmjQzkZwEOn",
        "outputId": "89ffdd3e-52d4-4800-d190-57cc6e03429f"
      },
      "execution_count": 32,
      "outputs": [
        {
          "output_type": "execute_result",
          "data": {
            "text/plain": [
              "array(['64', '128', '32', '105', '256', '150', '110', 'a70', 'A1', '34',\n",
              "       '125', '512'], dtype=object)"
            ]
          },
          "metadata": {},
          "execution_count": 32
        }
      ]
    },
    {
      "cell_type": "code",
      "source": [
        "df.drop(df[df['Rom']=='a70'].index,inplace=True)\n",
        "df.drop(df[df['Rom']=='A1'].index,inplace=True)"
      ],
      "metadata": {
        "id": "uZHsyvhjJP4m"
      },
      "execution_count": 33,
      "outputs": []
    },
    {
      "cell_type": "code",
      "source": [
        "df['Rom'].unique()"
      ],
      "metadata": {
        "colab": {
          "base_uri": "https://localhost:8080/"
        },
        "id": "suj9bUpaJejT",
        "outputId": "0121fa94-e1d6-4c7f-ebe8-0986e196ae1d"
      },
      "execution_count": 34,
      "outputs": [
        {
          "output_type": "execute_result",
          "data": {
            "text/plain": [
              "array(['64', '128', '32', '105', '256', '150', '110', '34', '125', '512'],\n",
              "      dtype=object)"
            ]
          },
          "metadata": {},
          "execution_count": 34
        }
      ]
    },
    {
      "cell_type": "code",
      "source": [
        "df.head()"
      ],
      "metadata": {
        "colab": {
          "base_uri": "https://localhost:8080/",
          "height": 206
        },
        "id": "UAU6Vam7KwUa",
        "outputId": "9f932a9a-de88-4cdf-ed88-a020a068dffd"
      },
      "execution_count": 35,
      "outputs": [
        {
          "output_type": "execute_result",
          "data": {
            "text/plain": [
              "     Mrp  Rating   company Ram_size  Rom\n",
              "0   8199     4.3   Infinix        4   64\n",
              "1   7999     4.1  MOTOROLA        4   64\n",
              "2   7499     4.3      POCO        4   64\n",
              "3   7199     4.3     REDMI        4   64\n",
              "4  14999     4.3   SAMSUNG        6  128"
            ],
            "text/html": [
              "\n",
              "  <div id=\"df-534f2153-05b2-44fb-afb0-72f89899e3fc\">\n",
              "    <div class=\"colab-df-container\">\n",
              "      <div>\n",
              "<style scoped>\n",
              "    .dataframe tbody tr th:only-of-type {\n",
              "        vertical-align: middle;\n",
              "    }\n",
              "\n",
              "    .dataframe tbody tr th {\n",
              "        vertical-align: top;\n",
              "    }\n",
              "\n",
              "    .dataframe thead th {\n",
              "        text-align: right;\n",
              "    }\n",
              "</style>\n",
              "<table border=\"1\" class=\"dataframe\">\n",
              "  <thead>\n",
              "    <tr style=\"text-align: right;\">\n",
              "      <th></th>\n",
              "      <th>Mrp</th>\n",
              "      <th>Rating</th>\n",
              "      <th>company</th>\n",
              "      <th>Ram_size</th>\n",
              "      <th>Rom</th>\n",
              "    </tr>\n",
              "  </thead>\n",
              "  <tbody>\n",
              "    <tr>\n",
              "      <th>0</th>\n",
              "      <td>8199</td>\n",
              "      <td>4.3</td>\n",
              "      <td>Infinix</td>\n",
              "      <td>4</td>\n",
              "      <td>64</td>\n",
              "    </tr>\n",
              "    <tr>\n",
              "      <th>1</th>\n",
              "      <td>7999</td>\n",
              "      <td>4.1</td>\n",
              "      <td>MOTOROLA</td>\n",
              "      <td>4</td>\n",
              "      <td>64</td>\n",
              "    </tr>\n",
              "    <tr>\n",
              "      <th>2</th>\n",
              "      <td>7499</td>\n",
              "      <td>4.3</td>\n",
              "      <td>POCO</td>\n",
              "      <td>4</td>\n",
              "      <td>64</td>\n",
              "    </tr>\n",
              "    <tr>\n",
              "      <th>3</th>\n",
              "      <td>7199</td>\n",
              "      <td>4.3</td>\n",
              "      <td>REDMI</td>\n",
              "      <td>4</td>\n",
              "      <td>64</td>\n",
              "    </tr>\n",
              "    <tr>\n",
              "      <th>4</th>\n",
              "      <td>14999</td>\n",
              "      <td>4.3</td>\n",
              "      <td>SAMSUNG</td>\n",
              "      <td>6</td>\n",
              "      <td>128</td>\n",
              "    </tr>\n",
              "  </tbody>\n",
              "</table>\n",
              "</div>\n",
              "      <button class=\"colab-df-convert\" onclick=\"convertToInteractive('df-534f2153-05b2-44fb-afb0-72f89899e3fc')\"\n",
              "              title=\"Convert this dataframe to an interactive table.\"\n",
              "              style=\"display:none;\">\n",
              "        \n",
              "  <svg xmlns=\"http://www.w3.org/2000/svg\" height=\"24px\"viewBox=\"0 0 24 24\"\n",
              "       width=\"24px\">\n",
              "    <path d=\"M0 0h24v24H0V0z\" fill=\"none\"/>\n",
              "    <path d=\"M18.56 5.44l.94 2.06.94-2.06 2.06-.94-2.06-.94-.94-2.06-.94 2.06-2.06.94zm-11 1L8.5 8.5l.94-2.06 2.06-.94-2.06-.94L8.5 2.5l-.94 2.06-2.06.94zm10 10l.94 2.06.94-2.06 2.06-.94-2.06-.94-.94-2.06-.94 2.06-2.06.94z\"/><path d=\"M17.41 7.96l-1.37-1.37c-.4-.4-.92-.59-1.43-.59-.52 0-1.04.2-1.43.59L10.3 9.45l-7.72 7.72c-.78.78-.78 2.05 0 2.83L4 21.41c.39.39.9.59 1.41.59.51 0 1.02-.2 1.41-.59l7.78-7.78 2.81-2.81c.8-.78.8-2.07 0-2.86zM5.41 20L4 18.59l7.72-7.72 1.47 1.35L5.41 20z\"/>\n",
              "  </svg>\n",
              "      </button>\n",
              "      \n",
              "  <style>\n",
              "    .colab-df-container {\n",
              "      display:flex;\n",
              "      flex-wrap:wrap;\n",
              "      gap: 12px;\n",
              "    }\n",
              "\n",
              "    .colab-df-convert {\n",
              "      background-color: #E8F0FE;\n",
              "      border: none;\n",
              "      border-radius: 50%;\n",
              "      cursor: pointer;\n",
              "      display: none;\n",
              "      fill: #1967D2;\n",
              "      height: 32px;\n",
              "      padding: 0 0 0 0;\n",
              "      width: 32px;\n",
              "    }\n",
              "\n",
              "    .colab-df-convert:hover {\n",
              "      background-color: #E2EBFA;\n",
              "      box-shadow: 0px 1px 2px rgba(60, 64, 67, 0.3), 0px 1px 3px 1px rgba(60, 64, 67, 0.15);\n",
              "      fill: #174EA6;\n",
              "    }\n",
              "\n",
              "    [theme=dark] .colab-df-convert {\n",
              "      background-color: #3B4455;\n",
              "      fill: #D2E3FC;\n",
              "    }\n",
              "\n",
              "    [theme=dark] .colab-df-convert:hover {\n",
              "      background-color: #434B5C;\n",
              "      box-shadow: 0px 1px 3px 1px rgba(0, 0, 0, 0.15);\n",
              "      filter: drop-shadow(0px 1px 2px rgba(0, 0, 0, 0.3));\n",
              "      fill: #FFFFFF;\n",
              "    }\n",
              "  </style>\n",
              "\n",
              "      <script>\n",
              "        const buttonEl =\n",
              "          document.querySelector('#df-534f2153-05b2-44fb-afb0-72f89899e3fc button.colab-df-convert');\n",
              "        buttonEl.style.display =\n",
              "          google.colab.kernel.accessAllowed ? 'block' : 'none';\n",
              "\n",
              "        async function convertToInteractive(key) {\n",
              "          const element = document.querySelector('#df-534f2153-05b2-44fb-afb0-72f89899e3fc');\n",
              "          const dataTable =\n",
              "            await google.colab.kernel.invokeFunction('convertToInteractive',\n",
              "                                                     [key], {});\n",
              "          if (!dataTable) return;\n",
              "\n",
              "          const docLinkHtml = 'Like what you see? Visit the ' +\n",
              "            '<a target=\"_blank\" href=https://colab.research.google.com/notebooks/data_table.ipynb>data table notebook</a>'\n",
              "            + ' to learn more about interactive tables.';\n",
              "          element.innerHTML = '';\n",
              "          dataTable['output_type'] = 'display_data';\n",
              "          await google.colab.output.renderOutput(dataTable, element);\n",
              "          const docLink = document.createElement('div');\n",
              "          docLink.innerHTML = docLinkHtml;\n",
              "          element.appendChild(docLink);\n",
              "        }\n",
              "      </script>\n",
              "    </div>\n",
              "  </div>\n",
              "  "
            ]
          },
          "metadata": {},
          "execution_count": 35
        }
      ]
    },
    {
      "cell_type": "code",
      "source": [
        "#First we need to change the object types into int or float for our model\n",
        "\n",
        "df['Mrp']=df['Mrp'].astype('int64')\n",
        "df['Ram_size']=df['Ram_size'].astype('int64')\n",
        "df['Rom']=df['Rom'].astype('int64')"
      ],
      "metadata": {
        "id": "vurLT7eHvXIp"
      },
      "execution_count": 36,
      "outputs": []
    },
    {
      "cell_type": "code",
      "source": [
        "df.company.unique()"
      ],
      "metadata": {
        "colab": {
          "base_uri": "https://localhost:8080/"
        },
        "id": "vbVTgbuZJ3Pq",
        "outputId": "ec3f5261-4573-4730-882f-9e9c4123ad50"
      },
      "execution_count": 37,
      "outputs": [
        {
          "output_type": "execute_result",
          "data": {
            "text/plain": [
              "array(['Infinix', 'MOTOROLA', 'POCO', 'REDMI', 'SAMSUNG', 'realme',\n",
              "       'APPLE', 'vivo', 'Nokia', 'OPPO', 'Realme', 'Google', 'OnePlus',\n",
              "       'Nothing', 'Tecno', 'IQOO', 'LAVA', 'Redmi', 'itel', 'Xiaomi',\n",
              "       'Micromax', 'ASUS', 'Moto', 'Mi', '10'], dtype=object)"
            ]
          },
          "metadata": {},
          "execution_count": 37
        }
      ]
    },
    {
      "cell_type": "code",
      "source": [
        "df.drop(df[df['company']=='10'].index,inplace=True)"
      ],
      "metadata": {
        "id": "exJKGWCzJ8zt"
      },
      "execution_count": 38,
      "outputs": []
    },
    {
      "cell_type": "code",
      "source": [
        "df.info()"
      ],
      "metadata": {
        "colab": {
          "base_uri": "https://localhost:8080/"
        },
        "id": "dQ5XyBCAJZ0u",
        "outputId": "f532f0fd-e4b9-4e7d-a1f9-717ec41c8302"
      },
      "execution_count": 39,
      "outputs": [
        {
          "output_type": "stream",
          "name": "stdout",
          "text": [
            "<class 'pandas.core.frame.DataFrame'>\n",
            "Int64Index: 22420 entries, 0 to 28750\n",
            "Data columns (total 5 columns):\n",
            " #   Column    Non-Null Count  Dtype  \n",
            "---  ------    --------------  -----  \n",
            " 0   Mrp       22420 non-null  int64  \n",
            " 1   Rating    22420 non-null  float64\n",
            " 2   company   22420 non-null  object \n",
            " 3   Ram_size  22420 non-null  int64  \n",
            " 4   Rom       22420 non-null  int64  \n",
            "dtypes: float64(1), int64(3), object(1)\n",
            "memory usage: 1.0+ MB\n"
          ]
        }
      ]
    },
    {
      "cell_type": "code",
      "source": [
        "#Divide into dependent and independent\n",
        "x=df.drop(['Mrp'],axis=1)\n",
        "y=df['Mrp']"
      ],
      "metadata": {
        "id": "hPkJ4mgmJjqm"
      },
      "execution_count": 40,
      "outputs": []
    },
    {
      "cell_type": "code",
      "source": [
        "x"
      ],
      "metadata": {
        "colab": {
          "base_uri": "https://localhost:8080/",
          "height": 423
        },
        "id": "NmN_s4-bL7J5",
        "outputId": "5942498e-37ba-4b8a-db65-ca696b32b39c"
      },
      "execution_count": 41,
      "outputs": [
        {
          "output_type": "execute_result",
          "data": {
            "text/plain": [
              "       Rating   company  Ram_size  Rom\n",
              "0         4.3   Infinix         4   64\n",
              "1         4.1  MOTOROLA         4   64\n",
              "2         4.3      POCO         4   64\n",
              "3         4.3     REDMI         4   64\n",
              "4         4.3   SAMSUNG         6  128\n",
              "...       ...       ...       ...  ...\n",
              "28745     4.2     Redmi         3   32\n",
              "28746     4.5      POCO         6   64\n",
              "28747     4.4      OPPO         4  128\n",
              "28748     4.3     Tecno         4   64\n",
              "28750     3.5     REDMI         6  128\n",
              "\n",
              "[22420 rows x 4 columns]"
            ],
            "text/html": [
              "\n",
              "  <div id=\"df-513e13ac-f796-4686-81de-a829bd2b8a7e\">\n",
              "    <div class=\"colab-df-container\">\n",
              "      <div>\n",
              "<style scoped>\n",
              "    .dataframe tbody tr th:only-of-type {\n",
              "        vertical-align: middle;\n",
              "    }\n",
              "\n",
              "    .dataframe tbody tr th {\n",
              "        vertical-align: top;\n",
              "    }\n",
              "\n",
              "    .dataframe thead th {\n",
              "        text-align: right;\n",
              "    }\n",
              "</style>\n",
              "<table border=\"1\" class=\"dataframe\">\n",
              "  <thead>\n",
              "    <tr style=\"text-align: right;\">\n",
              "      <th></th>\n",
              "      <th>Rating</th>\n",
              "      <th>company</th>\n",
              "      <th>Ram_size</th>\n",
              "      <th>Rom</th>\n",
              "    </tr>\n",
              "  </thead>\n",
              "  <tbody>\n",
              "    <tr>\n",
              "      <th>0</th>\n",
              "      <td>4.3</td>\n",
              "      <td>Infinix</td>\n",
              "      <td>4</td>\n",
              "      <td>64</td>\n",
              "    </tr>\n",
              "    <tr>\n",
              "      <th>1</th>\n",
              "      <td>4.1</td>\n",
              "      <td>MOTOROLA</td>\n",
              "      <td>4</td>\n",
              "      <td>64</td>\n",
              "    </tr>\n",
              "    <tr>\n",
              "      <th>2</th>\n",
              "      <td>4.3</td>\n",
              "      <td>POCO</td>\n",
              "      <td>4</td>\n",
              "      <td>64</td>\n",
              "    </tr>\n",
              "    <tr>\n",
              "      <th>3</th>\n",
              "      <td>4.3</td>\n",
              "      <td>REDMI</td>\n",
              "      <td>4</td>\n",
              "      <td>64</td>\n",
              "    </tr>\n",
              "    <tr>\n",
              "      <th>4</th>\n",
              "      <td>4.3</td>\n",
              "      <td>SAMSUNG</td>\n",
              "      <td>6</td>\n",
              "      <td>128</td>\n",
              "    </tr>\n",
              "    <tr>\n",
              "      <th>...</th>\n",
              "      <td>...</td>\n",
              "      <td>...</td>\n",
              "      <td>...</td>\n",
              "      <td>...</td>\n",
              "    </tr>\n",
              "    <tr>\n",
              "      <th>28745</th>\n",
              "      <td>4.2</td>\n",
              "      <td>Redmi</td>\n",
              "      <td>3</td>\n",
              "      <td>32</td>\n",
              "    </tr>\n",
              "    <tr>\n",
              "      <th>28746</th>\n",
              "      <td>4.5</td>\n",
              "      <td>POCO</td>\n",
              "      <td>6</td>\n",
              "      <td>64</td>\n",
              "    </tr>\n",
              "    <tr>\n",
              "      <th>28747</th>\n",
              "      <td>4.4</td>\n",
              "      <td>OPPO</td>\n",
              "      <td>4</td>\n",
              "      <td>128</td>\n",
              "    </tr>\n",
              "    <tr>\n",
              "      <th>28748</th>\n",
              "      <td>4.3</td>\n",
              "      <td>Tecno</td>\n",
              "      <td>4</td>\n",
              "      <td>64</td>\n",
              "    </tr>\n",
              "    <tr>\n",
              "      <th>28750</th>\n",
              "      <td>3.5</td>\n",
              "      <td>REDMI</td>\n",
              "      <td>6</td>\n",
              "      <td>128</td>\n",
              "    </tr>\n",
              "  </tbody>\n",
              "</table>\n",
              "<p>22420 rows × 4 columns</p>\n",
              "</div>\n",
              "      <button class=\"colab-df-convert\" onclick=\"convertToInteractive('df-513e13ac-f796-4686-81de-a829bd2b8a7e')\"\n",
              "              title=\"Convert this dataframe to an interactive table.\"\n",
              "              style=\"display:none;\">\n",
              "        \n",
              "  <svg xmlns=\"http://www.w3.org/2000/svg\" height=\"24px\"viewBox=\"0 0 24 24\"\n",
              "       width=\"24px\">\n",
              "    <path d=\"M0 0h24v24H0V0z\" fill=\"none\"/>\n",
              "    <path d=\"M18.56 5.44l.94 2.06.94-2.06 2.06-.94-2.06-.94-.94-2.06-.94 2.06-2.06.94zm-11 1L8.5 8.5l.94-2.06 2.06-.94-2.06-.94L8.5 2.5l-.94 2.06-2.06.94zm10 10l.94 2.06.94-2.06 2.06-.94-2.06-.94-.94-2.06-.94 2.06-2.06.94z\"/><path d=\"M17.41 7.96l-1.37-1.37c-.4-.4-.92-.59-1.43-.59-.52 0-1.04.2-1.43.59L10.3 9.45l-7.72 7.72c-.78.78-.78 2.05 0 2.83L4 21.41c.39.39.9.59 1.41.59.51 0 1.02-.2 1.41-.59l7.78-7.78 2.81-2.81c.8-.78.8-2.07 0-2.86zM5.41 20L4 18.59l7.72-7.72 1.47 1.35L5.41 20z\"/>\n",
              "  </svg>\n",
              "      </button>\n",
              "      \n",
              "  <style>\n",
              "    .colab-df-container {\n",
              "      display:flex;\n",
              "      flex-wrap:wrap;\n",
              "      gap: 12px;\n",
              "    }\n",
              "\n",
              "    .colab-df-convert {\n",
              "      background-color: #E8F0FE;\n",
              "      border: none;\n",
              "      border-radius: 50%;\n",
              "      cursor: pointer;\n",
              "      display: none;\n",
              "      fill: #1967D2;\n",
              "      height: 32px;\n",
              "      padding: 0 0 0 0;\n",
              "      width: 32px;\n",
              "    }\n",
              "\n",
              "    .colab-df-convert:hover {\n",
              "      background-color: #E2EBFA;\n",
              "      box-shadow: 0px 1px 2px rgba(60, 64, 67, 0.3), 0px 1px 3px 1px rgba(60, 64, 67, 0.15);\n",
              "      fill: #174EA6;\n",
              "    }\n",
              "\n",
              "    [theme=dark] .colab-df-convert {\n",
              "      background-color: #3B4455;\n",
              "      fill: #D2E3FC;\n",
              "    }\n",
              "\n",
              "    [theme=dark] .colab-df-convert:hover {\n",
              "      background-color: #434B5C;\n",
              "      box-shadow: 0px 1px 3px 1px rgba(0, 0, 0, 0.15);\n",
              "      filter: drop-shadow(0px 1px 2px rgba(0, 0, 0, 0.3));\n",
              "      fill: #FFFFFF;\n",
              "    }\n",
              "  </style>\n",
              "\n",
              "      <script>\n",
              "        const buttonEl =\n",
              "          document.querySelector('#df-513e13ac-f796-4686-81de-a829bd2b8a7e button.colab-df-convert');\n",
              "        buttonEl.style.display =\n",
              "          google.colab.kernel.accessAllowed ? 'block' : 'none';\n",
              "\n",
              "        async function convertToInteractive(key) {\n",
              "          const element = document.querySelector('#df-513e13ac-f796-4686-81de-a829bd2b8a7e');\n",
              "          const dataTable =\n",
              "            await google.colab.kernel.invokeFunction('convertToInteractive',\n",
              "                                                     [key], {});\n",
              "          if (!dataTable) return;\n",
              "\n",
              "          const docLinkHtml = 'Like what you see? Visit the ' +\n",
              "            '<a target=\"_blank\" href=https://colab.research.google.com/notebooks/data_table.ipynb>data table notebook</a>'\n",
              "            + ' to learn more about interactive tables.';\n",
              "          element.innerHTML = '';\n",
              "          dataTable['output_type'] = 'display_data';\n",
              "          await google.colab.output.renderOutput(dataTable, element);\n",
              "          const docLink = document.createElement('div');\n",
              "          docLink.innerHTML = docLinkHtml;\n",
              "          element.appendChild(docLink);\n",
              "        }\n",
              "      </script>\n",
              "    </div>\n",
              "  </div>\n",
              "  "
            ]
          },
          "metadata": {},
          "execution_count": 41
        }
      ]
    },
    {
      "cell_type": "code",
      "source": [
        "#Apply one hot encoder for encoding\n",
        "from sklearn.preprocessing import OneHotEncoder\n",
        "from sklearn.compose import ColumnTransformer\n",
        "ct=ColumnTransformer(transformers=[('encoder',OneHotEncoder(),[1])],remainder='passthrough')\n",
        "x=ct.fit_transform(x)"
      ],
      "metadata": {
        "id": "OJgbpJ7xLdqY"
      },
      "execution_count": 42,
      "outputs": []
    },
    {
      "cell_type": "code",
      "source": [
        "x"
      ],
      "metadata": {
        "colab": {
          "base_uri": "https://localhost:8080/"
        },
        "id": "O7sGmb8IL_rZ",
        "outputId": "ee54fc45-74f9-43f2-90b3-b0f86092f2ea"
      },
      "execution_count": 43,
      "outputs": [
        {
          "output_type": "execute_result",
          "data": {
            "text/plain": [
              "<22420x27 sparse matrix of type '<class 'numpy.float64'>'\n",
              "\twith 89680 stored elements in Compressed Sparse Row format>"
            ]
          },
          "metadata": {},
          "execution_count": 43
        }
      ]
    },
    {
      "cell_type": "code",
      "source": [
        "#Build method with leanear regression\n",
        "#Spliting\n",
        "from sklearn.model_selection import train_test_split\n",
        "x_train,x_test,y_train,y_test=train_test_split(x,y,test_size=0.3)"
      ],
      "metadata": {
        "id": "cKsKsFsiMAcJ"
      },
      "execution_count": 44,
      "outputs": []
    },
    {
      "cell_type": "code",
      "source": [
        "#model building\n",
        "from sklearn.linear_model import LinearRegression\n",
        "lr_model=LinearRegression()"
      ],
      "metadata": {
        "id": "0SEBgcynMYGg"
      },
      "execution_count": 45,
      "outputs": []
    },
    {
      "cell_type": "code",
      "source": [
        "lr_model.fit(x_train,y_train)"
      ],
      "metadata": {
        "colab": {
          "base_uri": "https://localhost:8080/"
        },
        "id": "x0cIhNsYNPj7",
        "outputId": "63d3341a-5813-40e3-d937-a6c218bdfd9f"
      },
      "execution_count": 46,
      "outputs": [
        {
          "output_type": "execute_result",
          "data": {
            "text/plain": [
              "LinearRegression()"
            ]
          },
          "metadata": {},
          "execution_count": 46
        }
      ]
    },
    {
      "cell_type": "code",
      "source": [
        "lr_model.score(x_test,y_test)"
      ],
      "metadata": {
        "colab": {
          "base_uri": "https://localhost:8080/"
        },
        "id": "XkRZoHsTNS-8",
        "outputId": "105aa000-4616-4d4a-801d-b6a4aea76d47"
      },
      "execution_count": 47,
      "outputs": [
        {
          "output_type": "execute_result",
          "data": {
            "text/plain": [
              "0.8314547571841158"
            ]
          },
          "metadata": {},
          "execution_count": 47
        }
      ]
    },
    {
      "cell_type": "code",
      "source": [
        "lr_prediction=lr_model.predict(x_test)"
      ],
      "metadata": {
        "id": "1bdk9plENmLX"
      },
      "execution_count": 48,
      "outputs": []
    },
    {
      "cell_type": "markdown",
      "source": [
        "# SVM(SVR)"
      ],
      "metadata": {
        "id": "P2oLuZLP5WOQ"
      }
    },
    {
      "cell_type": "code",
      "source": [
        "from sklearn.svm import SVR\n",
        "svr_model=SVR(kernel='rbf')\n",
        "svr_model.fit(x_train,y_train)\n",
        "svr_prediction=svr_model.predict(x_test)\n",
        "\n",
        "svr_model.score(x_train,y_train)"
      ],
      "metadata": {
        "id": "Sh1Zzd8fNyDx",
        "colab": {
          "base_uri": "https://localhost:8080/"
        },
        "outputId": "c5b7c8d4-cfe0-4110-b066-9cfb839b021b"
      },
      "execution_count": 49,
      "outputs": [
        {
          "output_type": "execute_result",
          "data": {
            "text/plain": [
              "-0.011918288144459499"
            ]
          },
          "metadata": {},
          "execution_count": 49
        }
      ]
    },
    {
      "cell_type": "markdown",
      "source": [
        "So SVR is not suitable for this data"
      ],
      "metadata": {
        "id": "VQOb13xf7K80"
      }
    },
    {
      "cell_type": "markdown",
      "source": [
        "# Decision Tree"
      ],
      "metadata": {
        "id": "BhyXJcMLFcdI"
      }
    },
    {
      "cell_type": "code",
      "source": [
        "from sklearn.tree import DecisionTreeRegressor\n",
        "from sklearn import tree\n",
        "\n",
        "dt_model=DecisionTreeRegressor(criterion='mse',max_depth=4,min_samples_leaf=2,)\n",
        "dt_model.fit(x_train,y_train)\n",
        "dt_model.score(x_test,y_test)"
      ],
      "metadata": {
        "colab": {
          "base_uri": "https://localhost:8080/"
        },
        "id": "QHJnYuxiFcIC",
        "outputId": "7f6bf186-ea96-4345-a1fc-cf5037391725"
      },
      "execution_count": 50,
      "outputs": [
        {
          "output_type": "stream",
          "name": "stderr",
          "text": [
            "/usr/local/lib/python3.8/dist-packages/sklearn/tree/_classes.py:359: FutureWarning: Criterion 'mse' was deprecated in v1.0 and will be removed in version 1.2. Use `criterion='squared_error'` which is equivalent.\n",
            "  warnings.warn(\n"
          ]
        },
        {
          "output_type": "execute_result",
          "data": {
            "text/plain": [
              "0.844057218659662"
            ]
          },
          "metadata": {},
          "execution_count": 50
        }
      ]
    },
    {
      "cell_type": "markdown",
      "source": [
        "# Random Forest"
      ],
      "metadata": {
        "id": "49HusTRBHEQQ"
      }
    },
    {
      "cell_type": "code",
      "source": [
        "from sklearn.ensemble import RandomForestRegressor\n",
        "rf_model=RandomForestRegressor(n_estimators=50,criterion='mse',max_depth=5)\n",
        "rf_model.fit(x_train,y_train)\n",
        "rf_model.score(x_test,y_test)"
      ],
      "metadata": {
        "id": "X98gePJq59XI",
        "colab": {
          "base_uri": "https://localhost:8080/"
        },
        "outputId": "b843e072-ab44-4664-f15e-d0ad3bc3f146"
      },
      "execution_count": 51,
      "outputs": [
        {
          "output_type": "stream",
          "name": "stderr",
          "text": [
            "/usr/local/lib/python3.8/dist-packages/sklearn/ensemble/_forest.py:396: FutureWarning: Criterion 'mse' was deprecated in v1.0 and will be removed in version 1.2. Use `criterion='squared_error'` which is equivalent.\n",
            "  warn(\n"
          ]
        },
        {
          "output_type": "execute_result",
          "data": {
            "text/plain": [
              "0.8636013659962247"
            ]
          },
          "metadata": {},
          "execution_count": 51
        }
      ]
    },
    {
      "cell_type": "markdown",
      "source": [
        "# KNN"
      ],
      "metadata": {
        "id": "92GpntjCzYt8"
      }
    },
    {
      "cell_type": "code",
      "source": [
        "from sklearn.neighbors import KNeighborsRegressor\n",
        "knn_model=KNeighborsRegressor(n_neighbors=9,weights='distance')\n",
        "knn_model.fit(x_train,y_train)\n",
        "prediction=knn_model.predict(x_test)\n",
        "knn_model.score(x_test,y_test)"
      ],
      "metadata": {
        "id": "u7WV2gp9G_SZ",
        "colab": {
          "base_uri": "https://localhost:8080/"
        },
        "outputId": "0b5b109d-300d-4d16-ba51-8ea7d84d9c35"
      },
      "execution_count": 52,
      "outputs": [
        {
          "output_type": "execute_result",
          "data": {
            "text/plain": [
              "0.900680012501437"
            ]
          },
          "metadata": {},
          "execution_count": 52
        }
      ]
    },
    {
      "cell_type": "markdown",
      "source": [
        "#####So KNN perform well rather than any other Model"
      ],
      "metadata": {
        "id": "Oi0vYAfO0Cmg"
      }
    },
    {
      "cell_type": "markdown",
      "source": [
        "# Ada Boost"
      ],
      "metadata": {
        "id": "9jCryAadKS1O"
      }
    },
    {
      "cell_type": "code",
      "source": [
        "from sklearn.ensemble import AdaBoostRegressor\n",
        "adb_model=AdaBoostRegressor(n_estimators=1,learning_rate=1.0)\n",
        "adb_model.fit(x_train,y_train)\n",
        "adb_prediction=adb_model.predict(x_test)\n",
        "adb_model.score(x_test,y_test)"
      ],
      "metadata": {
        "id": "ajx784BRz3iQ",
        "colab": {
          "base_uri": "https://localhost:8080/"
        },
        "outputId": "13e7b9b5-5216-44a7-d242-c5804c17033c"
      },
      "execution_count": 53,
      "outputs": [
        {
          "output_type": "execute_result",
          "data": {
            "text/plain": [
              "0.80317362791268"
            ]
          },
          "metadata": {},
          "execution_count": 53
        }
      ]
    },
    {
      "cell_type": "markdown",
      "source": [
        "# Gradiant Boost"
      ],
      "metadata": {
        "id": "GNJAWdN8LM88"
      }
    },
    {
      "cell_type": "code",
      "source": [
        "from sklearn.ensemble import GradientBoostingRegressor\n",
        "gb_model=GradientBoostingRegressor(learning_rate=0.1,n_estimators=1000,\n",
        "                                   max_depth=4,max_leaf_nodes=5)\n",
        "gb_model.fit(x_train,y_train)\n",
        "gb_prediction=gb_model.predict(x_test)\n",
        "gb_model.score(x_test,y_test)"
      ],
      "metadata": {
        "colab": {
          "base_uri": "https://localhost:8080/"
        },
        "id": "LjCEe7PDK0JO",
        "outputId": "9cc45621-e793-4551-ce94-4801d4935e98"
      },
      "execution_count": 54,
      "outputs": [
        {
          "output_type": "execute_result",
          "data": {
            "text/plain": [
              "0.9113320988051652"
            ]
          },
          "metadata": {},
          "execution_count": 54
        }
      ]
    },
    {
      "cell_type": "markdown",
      "source": [
        "# XG Boost"
      ],
      "metadata": {
        "id": "YVBQx9B2LzPo"
      }
    },
    {
      "cell_type": "code",
      "source": [
        "import xgboost\n",
        "xgb_model=xgboost.XGBRegressor(max_depth=5,learning_rate=0.1,objective=\"reg:linear\")\n",
        "xgb_model.fit(x_train,y_train)\n",
        "prediction=xgb_model.predict(x_test)\n",
        "xgb_model.score(x_test,y_test)"
      ],
      "metadata": {
        "id": "Q7tyhpzTLu2u",
        "colab": {
          "base_uri": "https://localhost:8080/"
        },
        "outputId": "e8991412-32ff-4a0f-f7a7-2a65f05572d3"
      },
      "execution_count": 55,
      "outputs": [
        {
          "output_type": "stream",
          "name": "stdout",
          "text": [
            "[05:40:31] WARNING: /workspace/src/objective/regression_obj.cu:152: reg:linear is now deprecated in favor of reg:squarederror.\n"
          ]
        },
        {
          "output_type": "execute_result",
          "data": {
            "text/plain": [
              "0.9075189839686786"
            ]
          },
          "metadata": {},
          "execution_count": 55
        }
      ]
    },
    {
      "cell_type": "code",
      "source": [],
      "metadata": {
        "id": "_jJn5vzTMPH0"
      },
      "execution_count": null,
      "outputs": []
    }
  ]
}